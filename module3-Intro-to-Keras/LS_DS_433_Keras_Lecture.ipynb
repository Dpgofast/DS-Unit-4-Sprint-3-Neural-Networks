{
 "cells": [
  {
   "cell_type": "markdown",
   "metadata": {
    "colab_type": "text",
    "id": "HJzTIkYAsLxw"
   },
   "source": [
    "# Lets Use Libraries!\n",
    "\n",
    "The objective of the last two days has been to familiarize you with the fundamentals of neural networks: terminology, structure of networks, forward propagation, error/cost functions, backpropagation, epochs, and gradient descent. We have tried to reinforce these topics by requiring to you code some of the simplest neural networks by hand including Perceptrons (single node neural networks) and Multi-Layer Perceptrons also known as Feed-Forward Neural Networks. Continuing to do things by hand would not be the best use of our limited time. You're ready to graduate from doing things by hand and start using some powerful libraries to build cutting-edge predictive models. "
   ]
  },
  {
   "cell_type": "markdown",
   "metadata": {
    "colab_type": "text",
    "id": "MFYCXc5KdkPE"
   },
   "source": [
    "# Keras\n",
    "\n",
    "> \"Keras is a high-level neural networks API, written in Python and capable of running on top of TensorFlow, CNTK, or Theano. It was developed with a focus on enabling fast experimentation. Being able to go from idea to result with the least possible delay is key to doing good research. Use Keras if you need a deep learning library that:\n",
    "\n",
    "> Allows for easy and fast prototyping (through user friendliness, modularity, and extensibility).\n",
    "Supports both convolutional networks and recurrent networks, as well as combinations of the two.\n",
    "Runs seamlessly on CPU and GPU.\" \n",
    "\n",
    "## Installation\n",
    "\n",
    "The Keras API is particularly straightforward and it already comes pre-installed on Google Colab! \n",
    "\n",
    "<img src=\"http://www.ryanleeallred.com/wp-content/uploads/2019/04/pip-freeze-keras.png\" width=\"300\">\n",
    "\n",
    "If you're not on Google Colab you'll need to install one of the \"backend\" engines that Keras runs on top of. I recommend Tensorflow:\n",
    "\n",
    "> `pip install tensorflow`\n",
    "\n",
    "Google Colab does not have the latest Tensorflow 2.0 installation, so you'll need to upgrade to that if you want to experiment with it. However Tensorflow 2.0 was just released last month and is still in \"alpha\" so if you **really** want to use the latest and greatest be prepared for odd bugs that you don't have control over every once in a while. <https://www.tensorflow.org/install/>"
   ]
  },
  {
   "cell_type": "code",
   "execution_count": 9,
   "metadata": {},
   "outputs": [
    {
     "name": "stdout",
     "output_type": "stream",
     "text": [
      "Collecting keras\n",
      "  Using cached https://files.pythonhosted.org/packages/5e/10/aa32dad071ce52b5502266b5c659451cfd6ffcbf14e6c8c4f16c0ff5aaab/Keras-2.2.4-py2.py3-none-any.whl\n",
      "Requirement already satisfied: six>=1.9.0 in c:\\programdata\\anaconda3\\lib\\site-packages (from keras) (1.12.0)\n",
      "Requirement already satisfied: h5py in c:\\programdata\\anaconda3\\lib\\site-packages (from keras) (2.9.0)\n",
      "Requirement already satisfied: scipy>=0.14 in c:\\programdata\\anaconda3\\lib\\site-packages (from keras) (1.2.1)\n",
      "Requirement already satisfied: pyyaml in c:\\programdata\\anaconda3\\lib\\site-packages (from keras) (5.1)\n",
      "Requirement already satisfied: numpy>=1.9.1 in c:\\programdata\\anaconda3\\lib\\site-packages (from keras) (1.16.2)\n",
      "Requirement already satisfied: keras-applications>=1.0.6 in c:\\programdata\\anaconda3\\lib\\site-packages (from keras) (1.0.8)\n",
      "Requirement already satisfied: keras-preprocessing>=1.0.5 in c:\\programdata\\anaconda3\\lib\\site-packages (from keras) (1.1.0)\n",
      "Installing collected packages: keras\n",
      "Successfully installed keras-2.2.4\n"
     ]
    },
    {
     "name": "stderr",
     "output_type": "stream",
     "text": [
      "The system cannot find the path specified.\n"
     ]
    }
   ],
   "source": [
    "# !pip install tensorflow\n",
    "!pip install keras\n",
    "# !pip install numpy \n"
   ]
  },
  {
   "cell_type": "code",
   "execution_count": 2,
   "metadata": {
    "colab": {},
    "colab_type": "code",
    "id": "QEncs0SOsFMT"
   },
   "outputs": [
    {
     "name": "stdout",
     "output_type": "stream",
     "text": [
      "absl-py==0.7.1\n",
      "alabaster==0.7.12\n",
      "anaconda-client==1.7.2\n",
      "anaconda-navigator==1.9.7\n",
      "anaconda-project==0.8.2\n",
      "asn1crypto==0.24.0\n",
      "astor==0.8.0\n",
      "astroid==2.2.5\n",
      "astropy==3.1.2\n",
      "atomicwrites==1.3.0\n",
      "attrs==19.1.0\n",
      "Babel==2.6.0\n",
      "backcall==0.1.0\n",
      "backports.os==0.1.1\n",
      "backports.shutil-get-terminal-size==1.0.0\n",
      "beautifulsoup4==4.7.1\n",
      "bitarray==0.8.3\n",
      "bkcharts==0.2\n",
      "bleach==3.1.0\n",
      "bokeh==1.0.4\n",
      "boto==2.49.0\n",
      "Bottleneck==1.2.1\n",
      "certifi==2019.3.9\n",
      "cffi==1.12.2\n",
      "chardet==3.0.4\n",
      "Click==7.0\n",
      "cloudpickle==0.8.0\n",
      "clyent==1.2.2\n",
      "colorama==0.4.1\n",
      "comtypes==1.1.7\n",
      "conda==4.6.11\n",
      "conda-build==3.17.8\n",
      "conda-verify==3.1.1\n",
      "contextlib2==0.5.5\n",
      "cryptography==2.6.1\n",
      "cycler==0.10.0\n",
      "Cython==0.29.6\n",
      "cytoolz==0.9.0.1\n",
      "dask==1.1.4\n",
      "decorator==4.4.0\n",
      "defusedxml==0.5.0\n",
      "distributed==1.26.0\n",
      "docutils==0.14\n",
      "entrypoints==0.3\n",
      "et-xmlfile==1.0.1\n",
      "fastcache==1.0.2\n",
      "filelock==3.0.10\n",
      "Flask==1.0.2\n",
      "future==0.17.1\n",
      "gast==0.2.2\n",
      "gevent==1.4.0\n",
      "glob2==0.6\n",
      "greenlet==0.4.15\n",
      "grpcio==1.21.1\n",
      "h5py==2.9.0\n",
      "heapdict==1.0.0\n",
      "html5lib==1.0.1\n",
      "idna==2.8\n",
      "imageio==2.5.0\n",
      "imagesize==1.1.0\n",
      "importlib-metadata==0.0.0\n",
      "ipykernel==5.1.0\n",
      "ipython==7.4.0\n",
      "ipython-genutils==0.2.0\n",
      "ipywidgets==7.4.2\n",
      "isort==4.3.16\n",
      "itsdangerous==1.1.0\n",
      "jdcal==1.4\n",
      "jedi==0.13.3\n",
      "Jinja2==2.10\n",
      "jsonschema==3.0.1\n",
      "jupyter==1.0.0\n",
      "jupyter-client==5.2.4\n",
      "jupyter-console==6.0.0\n",
      "jupyter-core==4.4.0\n",
      "jupyterlab==0.35.4\n",
      "jupyterlab-server==0.2.0\n",
      "Keras-Applications==1.0.8\n",
      "Keras-Preprocessing==1.1.0\n",
      "keyring==18.0.0\n",
      "kiwisolver==1.0.1\n",
      "lazy-object-proxy==1.3.1\n",
      "libarchive-c==2.8\n",
      "llvmlite==0.28.0\n",
      "locket==0.2.0\n",
      "lxml==4.3.2\n",
      "Markdown==3.1.1\n",
      "MarkupSafe==1.1.1\n",
      "matplotlib==3.0.3\n",
      "mccabe==0.6.1\n",
      "menuinst==1.4.16\n",
      "mistune==0.8.4\n",
      "mkl-fft==1.0.10\n",
      "mkl-random==1.0.2\n",
      "mock==3.0.5\n",
      "more-itertools==6.0.0\n",
      "mpmath==1.1.0\n",
      "msgpack==0.6.1\n",
      "multipledispatch==0.6.0\n",
      "navigator-updater==0.2.1\n",
      "nbconvert==5.4.1\n",
      "nbformat==4.4.0\n",
      "networkx==2.2\n",
      "nltk==3.4\n",
      "nose==1.3.7\n",
      "notebook==5.7.8\n",
      "numba==0.43.1\n",
      "numexpr==2.6.9\n",
      "numpy==1.16.2\n",
      "numpydoc==0.8.0\n",
      "olefile==0.46\n",
      "openpyxl==2.6.1\n",
      "packaging==19.0\n",
      "pandas==0.24.2\n",
      "pandocfilters==1.4.2\n",
      "parso==0.3.4\n",
      "partd==0.3.10\n",
      "path.py==11.5.0\n",
      "pathlib2==2.3.3\n",
      "patsy==0.5.1\n",
      "pep8==1.7.1\n",
      "pickleshare==0.7.5\n",
      "Pillow==5.4.1\n",
      "pkginfo==1.5.0.1\n",
      "pluggy==0.9.0\n",
      "ply==3.11\n",
      "prometheus-client==0.6.0\n",
      "prompt-toolkit==2.0.9\n",
      "protobuf==3.8.0\n",
      "psutil==5.6.1\n",
      "py==1.8.0\n",
      "pycodestyle==2.5.0\n",
      "pycosat==0.6.3\n",
      "pycparser==2.19\n",
      "pycrypto==2.6.1\n",
      "pycurl==7.43.0.2\n",
      "pyflakes==2.1.1\n",
      "Pygments==2.3.1\n",
      "pylint==2.3.1\n",
      "pyodbc==4.0.26\n",
      "pyOpenSSL==19.0.0\n",
      "pyparsing==2.3.1\n",
      "pyreadline==2.1\n",
      "pyrsistent==0.14.11\n",
      "PySocks==1.6.8\n",
      "pytest==4.3.1\n",
      "pytest-arraydiff==0.3\n",
      "pytest-astropy==0.5.0\n",
      "pytest-doctestplus==0.3.0\n",
      "pytest-openfiles==0.3.2\n",
      "pytest-remotedata==0.3.1\n",
      "python-dateutil==2.8.0\n",
      "pytz==2018.9\n",
      "PyWavelets==1.0.2\n",
      "pywin32==223\n",
      "pywinpty==0.5.5\n",
      "PyYAML==5.1\n",
      "pyzmq==18.0.0\n",
      "QtAwesome==0.5.7\n",
      "qtconsole==4.4.3\n",
      "QtPy==1.7.0\n",
      "requests==2.21.0\n",
      "rope==0.12.0\n",
      "ruamel-yaml==0.15.46\n",
      "scikit-image==0.14.2\n",
      "scikit-learn==0.20.3\n",
      "scipy==1.2.1\n",
      "seaborn==0.9.0\n",
      "Send2Trash==1.5.0\n",
      "simplegeneric==0.8.1\n",
      "singledispatch==3.4.0.3\n",
      "six==1.12.0\n",
      "snowballstemmer==1.2.1\n",
      "sortedcollections==1.1.2\n",
      "sortedcontainers==2.1.0\n",
      "soupsieve==1.8\n",
      "Sphinx==1.8.5\n",
      "sphinxcontrib-websupport==1.1.0\n",
      "spyder==3.3.3\n",
      "spyder-kernels==0.4.2\n",
      "SQLAlchemy==1.3.1\n",
      "statsmodels==0.9.0\n",
      "sympy==1.3\n",
      "tables==3.5.1\n",
      "tblib==1.3.2\n",
      "tensorboard==1.13.1\n",
      "tensorflow==1.13.1\n",
      "tensorflow-estimator==1.13.0\n",
      "tensorflow-gpu==1.13.1\n",
      "termcolor==1.1.0\n",
      "terminado==0.8.1\n",
      "testpath==0.4.2\n",
      "toolz==0.9.0\n",
      "tornado==6.0.2\n",
      "tqdm==4.31.1\n",
      "traitlets==4.3.2\n",
      "unicodecsv==0.14.1\n",
      "urllib3==1.24.1\n",
      "wcwidth==0.1.7\n",
      "webencodings==0.5.1\n",
      "Werkzeug==0.14.1\n",
      "widgetsnbextension==3.4.2\n",
      "win-inet-pton==1.1.0\n",
      "win-unicode-console==0.5\n",
      "wincertstore==0.2\n",
      "wrapt==1.11.1\n",
      "xlrd==1.2.0\n",
      "XlsxWriter==1.1.5\n",
      "xlwings==0.15.4\n",
      "xlwt==1.3.0\n",
      "zict==0.1.4\n",
      "zipp==0.3.3\n"
     ]
    },
    {
     "name": "stderr",
     "output_type": "stream",
     "text": [
      "The system cannot find the path specified.\n"
     ]
    }
   ],
   "source": [
    "# Use pip freeze to see what packages/libraries your notebook has access to\n",
    "# !pip freeze\n",
    "!pip freeze\n"
   ]
  },
  {
   "cell_type": "markdown",
   "metadata": {
    "colab_type": "text",
    "id": "VxgUUpIKn54a"
   },
   "source": [
    "## Our First Keras Model - Perceptron, Batch epochs\n",
    "\n",
    "1) Load Data\n",
    "\n",
    "2) Define Model\n",
    "\n",
    "3) Compile Model\n",
    "\n",
    "4) Fit Model\n",
    "\n",
    "5) Evaluate Model"
   ]
  },
  {
   "cell_type": "markdown",
   "metadata": {
    "colab_type": "text",
    "id": "Md5D67XwqVAf"
   },
   "source": [
    "### Load Data\n",
    "\n",
    "Our life is going to be easier if our data is already cleaned up and numeric, so lets use this dataset from Jason Brownlee that is already numeric and has no column headers so we'll need to slice off the last column of data to act as our y values."
   ]
  },
  {
   "cell_type": "code",
   "execution_count": 3,
   "metadata": {},
   "outputs": [],
   "source": [
    "import numpy as np "
   ]
  },
  {
   "cell_type": "code",
   "execution_count": 5,
   "metadata": {},
   "outputs": [],
   "source": [
    "import pandas as pd\n",
    "import numpy as np \n",
    "import tensorflow as tf#"
   ]
  },
  {
   "cell_type": "code",
   "execution_count": 6,
   "metadata": {
    "colab": {
     "base_uri": "https://localhost:8080/",
     "height": 109,
     "resources": {
      "http://localhost:8080/nbextensions/google.colab/files.js": {
       "data": "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",
       "headers": [
        [
         "content-type",
         "application/javascript"
        ]
       ],
       "ok": true,
       "status": 200,
       "status_text": ""
      }
     }
    },
    "colab_type": "code",
    "id": "bn09phMBpY1J",
    "outputId": "1c45fb6a-e3cb-4ec1-fb85-de52b3c60bae"
   },
   "outputs": [],
   "source": [
    "# https://raw.githubusercontent.com/jbrownlee/Datasets/master/pima-indians-diabetes.data.csv\n",
    "url =  'https://raw.githubusercontent.com/jbrownlee/Datasets/master/pima-indians-diabetes.data.csv'\n",
    "df = pd.read_csv(url, header=None)"
   ]
  },
  {
   "cell_type": "code",
   "execution_count": 7,
   "metadata": {
    "colab": {
     "base_uri": "https://localhost:8080/",
     "height": 725
    },
    "colab_type": "code",
    "id": "FKuofD3Pogil",
    "outputId": "16c2f4fa-93c8-491d-b339-9f35f7918621"
   },
   "outputs": [
    {
     "name": "stdout",
     "output_type": "stream",
     "text": [
      "(768, 8)\n",
      "      0    1   2   3    4     5      6   7\n",
      "0     6  148  72  35    0  33.6  0.627  50\n",
      "1     1   85  66  29    0  26.6  0.351  31\n",
      "2     8  183  64   0    0  23.3  0.672  32\n",
      "3     1   89  66  23   94  28.1  0.167  21\n",
      "4     0  137  40  35  168  43.1  2.288  33\n",
      "5     5  116  74   0    0  25.6  0.201  30\n",
      "6     3   78  50  32   88  31.0  0.248  26\n",
      "7    10  115   0   0    0  35.3  0.134  29\n",
      "8     2  197  70  45  543  30.5  0.158  53\n",
      "9     8  125  96   0    0   0.0  0.232  54\n",
      "10    4  110  92   0    0  37.6  0.191  30\n",
      "11   10  168  74   0    0  38.0  0.537  34\n",
      "12   10  139  80   0    0  27.1  1.441  57\n",
      "13    1  189  60  23  846  30.1  0.398  59\n",
      "14    5  166  72  19  175  25.8  0.587  51\n",
      "15    7  100   0   0    0  30.0  0.484  32\n",
      "16    0  118  84  47  230  45.8  0.551  31\n",
      "17    7  107  74   0    0  29.6  0.254  31\n",
      "18    1  103  30  38   83  43.3  0.183  33\n",
      "19    1  115  70  30   96  34.6  0.529  32\n",
      "20    3  126  88  41  235  39.3  0.704  27\n",
      "21    8   99  84   0    0  35.4  0.388  50\n",
      "22    7  196  90   0    0  39.8  0.451  41\n",
      "23    9  119  80  35    0  29.0  0.263  29\n",
      "24   11  143  94  33  146  36.6  0.254  51\n",
      "25   10  125  70  26  115  31.1  0.205  41\n",
      "26    7  147  76   0    0  39.4  0.257  43\n",
      "27    1   97  66  15  140  23.2  0.487  22\n",
      "28   13  145  82  19  110  22.2  0.245  57\n",
      "29    5  117  92   0    0  34.1  0.337  38\n",
      "..   ..  ...  ..  ..  ...   ...    ...  ..\n",
      "738   2   99  60  17  160  36.6  0.453  21\n",
      "739   1  102  74   0    0  39.5  0.293  42\n",
      "740  11  120  80  37  150  42.3  0.785  48\n",
      "741   3  102  44  20   94  30.8  0.400  26\n",
      "742   1  109  58  18  116  28.5  0.219  22\n",
      "743   9  140  94   0    0  32.7  0.734  45\n",
      "744  13  153  88  37  140  40.6  1.174  39\n",
      "745  12  100  84  33  105  30.0  0.488  46\n",
      "746   1  147  94  41    0  49.3  0.358  27\n",
      "747   1   81  74  41   57  46.3  1.096  32\n",
      "748   3  187  70  22  200  36.4  0.408  36\n",
      "749   6  162  62   0    0  24.3  0.178  50\n",
      "750   4  136  70   0    0  31.2  1.182  22\n",
      "751   1  121  78  39   74  39.0  0.261  28\n",
      "752   3  108  62  24    0  26.0  0.223  25\n",
      "753   0  181  88  44  510  43.3  0.222  26\n",
      "754   8  154  78  32    0  32.4  0.443  45\n",
      "755   1  128  88  39  110  36.5  1.057  37\n",
      "756   7  137  90  41    0  32.0  0.391  39\n",
      "757   0  123  72   0    0  36.3  0.258  52\n",
      "758   1  106  76   0    0  37.5  0.197  26\n",
      "759   6  190  92   0    0  35.5  0.278  66\n",
      "760   2   88  58  26   16  28.4  0.766  22\n",
      "761   9  170  74  31    0  44.0  0.403  43\n",
      "762   9   89  62   0    0  22.5  0.142  33\n",
      "763  10  101  76  48  180  32.9  0.171  63\n",
      "764   2  122  70  27    0  36.8  0.340  27\n",
      "765   5  121  72  23  112  26.2  0.245  30\n",
      "766   1  126  60   0    0  30.1  0.349  47\n",
      "767   1   93  70  31    0  30.4  0.315  23\n",
      "\n",
      "[768 rows x 8 columns]\n",
      "(768,)\n",
      "0      1\n",
      "1      0\n",
      "2      1\n",
      "3      0\n",
      "4      1\n",
      "5      0\n",
      "6      1\n",
      "7      0\n",
      "8      1\n",
      "9      1\n",
      "10     0\n",
      "11     1\n",
      "12     0\n",
      "13     1\n",
      "14     1\n",
      "15     1\n",
      "16     1\n",
      "17     1\n",
      "18     0\n",
      "19     1\n",
      "20     0\n",
      "21     0\n",
      "22     1\n",
      "23     1\n",
      "24     1\n",
      "25     1\n",
      "26     1\n",
      "27     0\n",
      "28     0\n",
      "29     0\n",
      "      ..\n",
      "738    0\n",
      "739    1\n",
      "740    1\n",
      "741    0\n",
      "742    0\n",
      "743    1\n",
      "744    0\n",
      "745    0\n",
      "746    1\n",
      "747    0\n",
      "748    1\n",
      "749    1\n",
      "750    1\n",
      "751    0\n",
      "752    0\n",
      "753    1\n",
      "754    1\n",
      "755    1\n",
      "756    0\n",
      "757    1\n",
      "758    0\n",
      "759    1\n",
      "760    0\n",
      "761    1\n",
      "762    0\n",
      "763    0\n",
      "764    0\n",
      "765    0\n",
      "766    1\n",
      "767    0\n",
      "Name: 8, Length: 768, dtype: int64\n"
     ]
    }
   ],
   "source": [
    "# Load Pima Indians Dataset\n",
    "# dataset = np.loadtxt(data, delimiter=',')\n",
    "# Split into X and Y variables\n",
    "X = df.iloc[:,0:8]\n",
    "print(X.shape)\n",
    "print(X)\n",
    "Y = df.iloc[:,-1]\n",
    "print(Y.shape)\n",
    "print(Y)"
   ]
  },
  {
   "cell_type": "markdown",
   "metadata": {
    "colab_type": "text",
    "id": "o0xMqOyTs5xt"
   },
   "source": [
    "### Define Model"
   ]
  },
  {
   "cell_type": "code",
   "execution_count": 11,
   "metadata": {
    "colab": {},
    "colab_type": "code",
    "id": "Bp9USczrfu6M"
   },
   "outputs": [],
   "source": [
    "from keras.models import Sequential\n",
    "from keras.layers import Dense\n",
    "import numpy\n",
    "# fix random seed for reproducibility\n",
    "numpy.random.seed(42)"
   ]
  },
  {
   "cell_type": "markdown",
   "metadata": {
    "colab_type": "text",
    "id": "wAzHLg27thoN"
   },
   "source": [
    "I'll instantiate my model as a \"sequential\" model. This just means that I'm going to tell Keras what my model's architecture should be one layer at a time."
   ]
  },
  {
   "cell_type": "code",
   "execution_count": 12,
   "metadata": {
    "colab": {},
    "colab_type": "code",
    "id": "DSNsL49Xp6KI"
   },
   "outputs": [],
   "source": [
    "# https://keras.io/getting-started/sequential-model-guide/\n",
    "model = Sequential()"
   ]
  },
  {
   "cell_type": "markdown",
   "metadata": {
    "colab_type": "text",
    "id": "ZCYX6QzJtvpG"
   },
   "source": [
    "Adding a \"Dense\" layer to our model is how we add \"vanilla\" perceptron-based layers to our neural network. These are also called \"fully-connected\" or \"densely-connected\" layers. They're used as a layer type in lots of other Neural Net Architectures but they're not referred to as perceptrons or multi-layer perceptrons very often in those situations even though that's what they are.\n",
    "\n",
    " > [\"Just your regular densely-connected NN layer.\"](https://keras.io/layers/core/)\n",
    " \n",
    " The first argument is how many neurons we want to have in that layer. To create a perceptron model we will just set it to 1. We will tell it that there will be 8 inputs coming into this layer from our dataset and set it to use the sigmoid activation function."
   ]
  },
  {
   "cell_type": "code",
   "execution_count": 13,
   "metadata": {
    "colab": {
     "base_uri": "https://localhost:8080/",
     "height": 89
    },
    "colab_type": "code",
    "id": "GNzOLidxtvFa",
    "outputId": "35b1457d-0189-49f1-aa6d-3ef15b29bd6e"
   },
   "outputs": [
    {
     "name": "stdout",
     "output_type": "stream",
     "text": [
      "WARNING:tensorflow:From C:\\ProgramData\\Anaconda3\\lib\\site-packages\\tensorflow\\python\\framework\\op_def_library.py:263: colocate_with (from tensorflow.python.framework.ops) is deprecated and will be removed in a future version.\n",
      "Instructions for updating:\n",
      "Colocations handled automatically by placer.\n"
     ]
    }
   ],
   "source": [
    "model.add(Dense(1, input_dim=8, activation=\"sigmoid\"))"
   ]
  },
  {
   "cell_type": "markdown",
   "metadata": {
    "colab_type": "text",
    "id": "EnI3jwKMtBL2"
   },
   "source": [
    "### Compile Model\n",
    "Using binary_crossentropy as the loss function here is just telling keras that I'm doing binary classification so that it can use the appropriate loss function accordingly. If we were predicting non-binary categories we might assign something like `categorical_crossentropy`. We're also telling keras that we want it to report model accuracy as our main error metric for each epoch. We will also be able to see the overall accuracy once the model has finished training."
   ]
  },
  {
   "cell_type": "code",
   "execution_count": 14,
   "metadata": {
    "colab": {},
    "colab_type": "code",
    "id": "qp6xwYaqurRO"
   },
   "outputs": [],
   "source": [
    "model.compile(loss='binary_crossentropy', optimizer='adam', metrics=['accuracy'])"
   ]
  },
  {
   "cell_type": "markdown",
   "metadata": {
    "colab_type": "text",
    "id": "5dW8SZ2Ls9SX"
   },
   "source": [
    "### Fit Model\n",
    "\n",
    "Lets train it up! `model.fit()` has a `batch_size` parameter that we can use if we want to do mini-batch epochs, but since this tabular dataset is pretty small we're just going to delete that parameter. Keras' default `batch_size` is `None` so omiting it will tell Keras to do batch epochs. "
   ]
  },
  {
   "cell_type": "code",
   "execution_count": 15,
   "metadata": {
    "colab": {
     "base_uri": "https://localhost:8080/",
     "height": 5288
    },
    "colab_type": "code",
    "id": "nJxdmX_-u5MJ",
    "outputId": "ae78a80d-5b9a-46e0-a8c2-45b41e40bdfd"
   },
   "outputs": [
    {
     "name": "stdout",
     "output_type": "stream",
     "text": [
      "WARNING:tensorflow:From C:\\ProgramData\\Anaconda3\\lib\\site-packages\\tensorflow\\python\\ops\\math_ops.py:3066: to_int32 (from tensorflow.python.ops.math_ops) is deprecated and will be removed in a future version.\n",
      "Instructions for updating:\n",
      "Use tf.cast instead.\n",
      "Epoch 1/150\n",
      "768/768 [==============================] - 0s 221us/step - loss: 9.9205 - acc: 0.3542\n",
      "Epoch 2/150\n",
      "768/768 [==============================] - 0s 21us/step - loss: 9.8982 - acc: 0.3581\n",
      "Epoch 3/150\n",
      "768/768 [==============================] - 0s 22us/step - loss: 9.8790 - acc: 0.3594\n",
      "Epoch 4/150\n",
      "768/768 [==============================] - 0s 21us/step - loss: 9.8417 - acc: 0.3620\n",
      "Epoch 5/150\n",
      "768/768 [==============================] - 0s 21us/step - loss: 9.6966 - acc: 0.3659\n",
      "Epoch 6/150\n",
      "768/768 [==============================] - 0s 21us/step - loss: 9.4568 - acc: 0.3724\n",
      "Epoch 7/150\n",
      "768/768 [==============================] - 0s 23us/step - loss: 9.3131 - acc: 0.3815\n",
      "Epoch 8/150\n",
      "768/768 [==============================] - 0s 21us/step - loss: 9.2876 - acc: 0.3854\n",
      "Epoch 9/150\n",
      "768/768 [==============================] - 0s 22us/step - loss: 9.2865 - acc: 0.3867\n",
      "Epoch 10/150\n",
      "768/768 [==============================] - 0s 22us/step - loss: 9.2793 - acc: 0.3893\n",
      "Epoch 11/150\n",
      "768/768 [==============================] - 0s 22us/step - loss: 9.2806 - acc: 0.3867\n",
      "Epoch 12/150\n",
      "768/768 [==============================] - 0s 22us/step - loss: 9.2725 - acc: 0.3919\n",
      "Epoch 13/150\n",
      "768/768 [==============================] - 0s 21us/step - loss: 9.2612 - acc: 0.3919\n",
      "Epoch 14/150\n",
      "768/768 [==============================] - 0s 22us/step - loss: 9.2603 - acc: 0.3945\n",
      "Epoch 15/150\n",
      "768/768 [==============================] - 0s 22us/step - loss: 9.2408 - acc: 0.3945\n",
      "Epoch 16/150\n",
      "768/768 [==============================] - 0s 22us/step - loss: 9.2284 - acc: 0.3945\n",
      "Epoch 17/150\n",
      "768/768 [==============================] - 0s 21us/step - loss: 9.2181 - acc: 0.3971\n",
      "Epoch 18/150\n",
      "768/768 [==============================] - 0s 23us/step - loss: 9.2054 - acc: 0.3958\n",
      "Epoch 19/150\n",
      "768/768 [==============================] - 0s 21us/step - loss: 9.1910 - acc: 0.3984\n",
      "Epoch 20/150\n",
      "768/768 [==============================] - 0s 21us/step - loss: 9.1549 - acc: 0.4010\n",
      "Epoch 21/150\n",
      "768/768 [==============================] - 0s 21us/step - loss: 9.1121 - acc: 0.4023\n",
      "Epoch 22/150\n",
      "768/768 [==============================] - 0s 22us/step - loss: 8.9915 - acc: 0.4076\n",
      "Epoch 23/150\n",
      "768/768 [==============================] - 0s 23us/step - loss: 8.8302 - acc: 0.4193\n",
      "Epoch 24/150\n",
      "768/768 [==============================] - 0s 22us/step - loss: 8.5906 - acc: 0.4310\n",
      "Epoch 25/150\n",
      "768/768 [==============================] - 0s 21us/step - loss: 8.3215 - acc: 0.4479\n",
      "Epoch 26/150\n",
      "768/768 [==============================] - 0s 23us/step - loss: 8.0941 - acc: 0.4648\n",
      "Epoch 27/150\n",
      "768/768 [==============================] - 0s 23us/step - loss: 7.8858 - acc: 0.4779\n",
      "Epoch 28/150\n",
      "768/768 [==============================] - 0s 22us/step - loss: 7.7624 - acc: 0.4974\n",
      "Epoch 29/150\n",
      "768/768 [==============================] - 0s 22us/step - loss: 7.6738 - acc: 0.5013\n",
      "Epoch 30/150\n",
      "768/768 [==============================] - ETA: 0s - loss: 6.2594 - acc: 0.593 - 0s 21us/step - loss: 7.6078 - acc: 0.5065\n",
      "Epoch 31/150\n",
      "768/768 [==============================] - 0s 23us/step - loss: 7.5529 - acc: 0.5143\n",
      "Epoch 32/150\n",
      "768/768 [==============================] - 0s 26us/step - loss: 7.5004 - acc: 0.5182\n",
      "Epoch 33/150\n",
      "768/768 [==============================] - ETA: 0s - loss: 5.6934 - acc: 0.562 - 0s 23us/step - loss: 7.4394 - acc: 0.5156\n",
      "Epoch 34/150\n",
      "768/768 [==============================] - 0s 22us/step - loss: 7.3909 - acc: 0.5182\n",
      "Epoch 35/150\n",
      "768/768 [==============================] - 0s 23us/step - loss: 7.3633 - acc: 0.5169\n",
      "Epoch 36/150\n",
      "768/768 [==============================] - ETA: 0s - loss: 5.7377 - acc: 0.593 - 0s 21us/step - loss: 7.3343 - acc: 0.5130\n",
      "Epoch 37/150\n",
      "768/768 [==============================] - 0s 22us/step - loss: 7.2388 - acc: 0.5104\n",
      "Epoch 38/150\n",
      "768/768 [==============================] - 0s 25us/step - loss: 6.8738 - acc: 0.5195\n",
      "Epoch 39/150\n",
      "768/768 [==============================] - 0s 23us/step - loss: 5.5119 - acc: 0.5339\n",
      "Epoch 40/150\n",
      "768/768 [==============================] - 0s 25us/step - loss: 4.8573 - acc: 0.5794\n",
      "Epoch 41/150\n",
      "768/768 [==============================] - 0s 23us/step - loss: 4.8207 - acc: 0.5885\n",
      "Epoch 42/150\n",
      "768/768 [==============================] - 0s 25us/step - loss: 4.7618 - acc: 0.5911\n",
      "Epoch 43/150\n",
      "768/768 [==============================] - 0s 23us/step - loss: 4.7091 - acc: 0.5859\n",
      "Epoch 44/150\n",
      "768/768 [==============================] - 0s 22us/step - loss: 4.6484 - acc: 0.5911\n",
      "Epoch 45/150\n",
      "768/768 [==============================] - 0s 23us/step - loss: 4.5989 - acc: 0.5898\n",
      "Epoch 46/150\n",
      "768/768 [==============================] - 0s 22us/step - loss: 4.5386 - acc: 0.5833\n",
      "Epoch 47/150\n",
      "768/768 [==============================] - 0s 23us/step - loss: 4.4489 - acc: 0.5872\n",
      "Epoch 48/150\n",
      "768/768 [==============================] - 0s 26us/step - loss: 4.3637 - acc: 0.5911\n",
      "Epoch 49/150\n",
      "768/768 [==============================] - 0s 21us/step - loss: 4.2770 - acc: 0.5938\n",
      "Epoch 50/150\n",
      "768/768 [==============================] - 0s 22us/step - loss: 4.1777 - acc: 0.5846\n",
      "Epoch 51/150\n",
      "768/768 [==============================] - 0s 25us/step - loss: 4.0758 - acc: 0.5859\n",
      "Epoch 52/150\n",
      "768/768 [==============================] - 0s 22us/step - loss: 3.9664 - acc: 0.5872\n",
      "Epoch 53/150\n",
      "768/768 [==============================] - 0s 21us/step - loss: 3.8607 - acc: 0.5859\n",
      "Epoch 54/150\n",
      "768/768 [==============================] - 0s 25us/step - loss: 3.7496 - acc: 0.5820\n",
      "Epoch 55/150\n",
      "768/768 [==============================] - 0s 23us/step - loss: 3.6444 - acc: 0.5977\n",
      "Epoch 56/150\n",
      "768/768 [==============================] - 0s 22us/step - loss: 3.5420 - acc: 0.5846\n",
      "Epoch 57/150\n",
      "768/768 [==============================] - 0s 22us/step - loss: 3.4617 - acc: 0.5885\n",
      "Epoch 58/150\n",
      "768/768 [==============================] - 0s 22us/step - loss: 3.3746 - acc: 0.5990\n",
      "Epoch 59/150\n",
      "768/768 [==============================] - 0s 21us/step - loss: 3.3012 - acc: 0.5977\n",
      "Epoch 60/150\n",
      "768/768 [==============================] - 0s 23us/step - loss: 3.2412 - acc: 0.6094\n",
      "Epoch 61/150\n",
      "768/768 [==============================] - 0s 25us/step - loss: 3.1940 - acc: 0.6120\n",
      "Epoch 62/150\n",
      "768/768 [==============================] - 0s 22us/step - loss: 3.1563 - acc: 0.6289\n",
      "Epoch 63/150\n",
      "768/768 [==============================] - 0s 23us/step - loss: 3.1256 - acc: 0.6185\n",
      "Epoch 64/150\n",
      "768/768 [==============================] - 0s 25us/step - loss: 3.0969 - acc: 0.6276\n",
      "Epoch 65/150\n",
      "768/768 [==============================] - 0s 20us/step - loss: 3.0882 - acc: 0.6367\n",
      "Epoch 66/150\n",
      "768/768 [==============================] - 0s 22us/step - loss: 3.0691 - acc: 0.6354\n",
      "Epoch 67/150\n",
      "768/768 [==============================] - 0s 22us/step - loss: 3.0609 - acc: 0.6432\n",
      "Epoch 68/150\n",
      "768/768 [==============================] - 0s 23us/step - loss: 3.0535 - acc: 0.6458\n",
      "Epoch 69/150\n",
      "768/768 [==============================] - 0s 22us/step - loss: 3.0478 - acc: 0.6562\n",
      "Epoch 70/150\n",
      "768/768 [==============================] - 0s 23us/step - loss: 3.0419 - acc: 0.6615\n",
      "Epoch 71/150\n",
      "768/768 [==============================] - 0s 22us/step - loss: 3.0405 - acc: 0.6628\n",
      "Epoch 72/150\n",
      "768/768 [==============================] - 0s 23us/step - loss: 3.0408 - acc: 0.6602\n",
      "Epoch 73/150\n",
      "768/768 [==============================] - 0s 22us/step - loss: 3.0329 - acc: 0.6732\n",
      "Epoch 74/150\n",
      "768/768 [==============================] - 0s 22us/step - loss: 3.0352 - acc: 0.6745\n",
      "Epoch 75/150\n",
      "768/768 [==============================] - 0s 22us/step - loss: 3.0332 - acc: 0.6771\n",
      "Epoch 76/150\n",
      "768/768 [==============================] - 0s 23us/step - loss: 3.0328 - acc: 0.6758\n",
      "Epoch 77/150\n",
      "768/768 [==============================] - 0s 22us/step - loss: 3.0329 - acc: 0.6797\n",
      "Epoch 78/150\n",
      "768/768 [==============================] - 0s 22us/step - loss: 3.0338 - acc: 0.6641\n",
      "Epoch 79/150\n",
      "768/768 [==============================] - 0s 21us/step - loss: 3.0247 - acc: 0.6654\n",
      "Epoch 80/150\n"
     ]
    },
    {
     "name": "stdout",
     "output_type": "stream",
     "text": [
      "768/768 [==============================] - 0s 22us/step - loss: 3.0241 - acc: 0.6758\n",
      "Epoch 81/150\n",
      "768/768 [==============================] - 0s 22us/step - loss: 3.0252 - acc: 0.6758\n",
      "Epoch 82/150\n",
      "768/768 [==============================] - 0s 21us/step - loss: 3.0232 - acc: 0.6732\n",
      "Epoch 83/150\n",
      "768/768 [==============================] - 0s 21us/step - loss: 3.0214 - acc: 0.6810\n",
      "Epoch 84/150\n",
      "768/768 [==============================] - 0s 21us/step - loss: 3.0253 - acc: 0.6745\n",
      "Epoch 85/150\n",
      "768/768 [==============================] - 0s 21us/step - loss: 3.0267 - acc: 0.6758\n",
      "Epoch 86/150\n",
      "768/768 [==============================] - 0s 20us/step - loss: 3.0192 - acc: 0.6836\n",
      "Epoch 87/150\n",
      "768/768 [==============================] - 0s 21us/step - loss: 3.0216 - acc: 0.6732\n",
      "Epoch 88/150\n",
      "768/768 [==============================] - 0s 20us/step - loss: 3.0202 - acc: 0.6875\n",
      "Epoch 89/150\n",
      "768/768 [==============================] - 0s 22us/step - loss: 3.0187 - acc: 0.6758\n",
      "Epoch 90/150\n",
      "768/768 [==============================] - 0s 21us/step - loss: 3.0174 - acc: 0.6862\n",
      "Epoch 91/150\n",
      "768/768 [==============================] - 0s 21us/step - loss: 3.0195 - acc: 0.6836\n",
      "Epoch 92/150\n",
      "768/768 [==============================] - 0s 21us/step - loss: 3.0200 - acc: 0.6849\n",
      "Epoch 93/150\n",
      "768/768 [==============================] - 0s 21us/step - loss: 3.0183 - acc: 0.6784\n",
      "Epoch 94/150\n",
      "768/768 [==============================] - 0s 22us/step - loss: 3.0174 - acc: 0.6836\n",
      "Epoch 95/150\n",
      "768/768 [==============================] - 0s 21us/step - loss: 3.0165 - acc: 0.6823\n",
      "Epoch 96/150\n",
      "768/768 [==============================] - 0s 21us/step - loss: 3.0211 - acc: 0.6849\n",
      "Epoch 97/150\n",
      "768/768 [==============================] - 0s 21us/step - loss: 3.0183 - acc: 0.6888\n",
      "Epoch 98/150\n",
      "768/768 [==============================] - 0s 22us/step - loss: 3.0144 - acc: 0.6875\n",
      "Epoch 99/150\n",
      "768/768 [==============================] - 0s 23us/step - loss: 3.0156 - acc: 0.6823\n",
      "Epoch 100/150\n",
      "768/768 [==============================] - 0s 20us/step - loss: 3.0155 - acc: 0.6875\n",
      "Epoch 101/150\n",
      "768/768 [==============================] - 0s 21us/step - loss: 3.0169 - acc: 0.6797\n",
      "Epoch 102/150\n",
      "768/768 [==============================] - 0s 22us/step - loss: 3.0150 - acc: 0.6849\n",
      "Epoch 103/150\n",
      "768/768 [==============================] - 0s 21us/step - loss: 3.0144 - acc: 0.6836\n",
      "Epoch 104/150\n",
      "768/768 [==============================] - 0s 21us/step - loss: 3.0134 - acc: 0.6823\n",
      "Epoch 105/150\n",
      "768/768 [==============================] - 0s 21us/step - loss: 3.0143 - acc: 0.6888\n",
      "Epoch 106/150\n",
      "768/768 [==============================] - 0s 21us/step - loss: 3.0133 - acc: 0.6862\n",
      "Epoch 107/150\n",
      "768/768 [==============================] - 0s 20us/step - loss: 3.0129 - acc: 0.6849\n",
      "Epoch 108/150\n",
      "768/768 [==============================] - 0s 22us/step - loss: 3.0194 - acc: 0.6784\n",
      "Epoch 109/150\n",
      "768/768 [==============================] - 0s 21us/step - loss: 3.0150 - acc: 0.6914\n",
      "Epoch 110/150\n",
      "768/768 [==============================] - 0s 21us/step - loss: 3.0138 - acc: 0.6810\n",
      "Epoch 111/150\n",
      "768/768 [==============================] - 0s 22us/step - loss: 3.0153 - acc: 0.6888\n",
      "Epoch 112/150\n",
      "768/768 [==============================] - 0s 21us/step - loss: 3.0160 - acc: 0.6836\n",
      "Epoch 113/150\n",
      "768/768 [==============================] - 0s 22us/step - loss: 3.0158 - acc: 0.6771\n",
      "Epoch 114/150\n",
      "768/768 [==============================] - 0s 21us/step - loss: 3.0135 - acc: 0.6888\n",
      "Epoch 115/150\n",
      "768/768 [==============================] - 0s 21us/step - loss: 3.0153 - acc: 0.6927\n",
      "Epoch 116/150\n",
      "768/768 [==============================] - 0s 21us/step - loss: 3.0132 - acc: 0.6927\n",
      "Epoch 117/150\n",
      "768/768 [==============================] - 0s 20us/step - loss: 3.0162 - acc: 0.6823\n",
      "Epoch 118/150\n",
      "768/768 [==============================] - 0s 20us/step - loss: 3.0302 - acc: 0.6602\n",
      "Epoch 119/150\n",
      "768/768 [==============================] - 0s 22us/step - loss: 3.0196 - acc: 0.6862\n",
      "Epoch 120/150\n",
      "768/768 [==============================] - 0s 22us/step - loss: 3.0127 - acc: 0.6875\n",
      "Epoch 121/150\n",
      "768/768 [==============================] - 0s 21us/step - loss: 3.0101 - acc: 0.6901\n",
      "Epoch 122/150\n",
      "768/768 [==============================] - 0s 22us/step - loss: 3.0155 - acc: 0.6849\n",
      "Epoch 123/150\n",
      "768/768 [==============================] - 0s 20us/step - loss: 3.0135 - acc: 0.6927\n",
      "Epoch 124/150\n",
      "768/768 [==============================] - 0s 21us/step - loss: 3.0101 - acc: 0.6823\n",
      "Epoch 125/150\n",
      "768/768 [==============================] - 0s 21us/step - loss: 3.0120 - acc: 0.6901\n",
      "Epoch 126/150\n",
      "768/768 [==============================] - 0s 22us/step - loss: 3.0114 - acc: 0.6927\n",
      "Epoch 127/150\n",
      "768/768 [==============================] - 0s 20us/step - loss: 3.0139 - acc: 0.6836\n",
      "Epoch 128/150\n",
      "768/768 [==============================] - 0s 22us/step - loss: 3.0119 - acc: 0.6810\n",
      "Epoch 129/150\n",
      "768/768 [==============================] - 0s 22us/step - loss: 3.0104 - acc: 0.6914\n",
      "Epoch 130/150\n",
      "768/768 [==============================] - 0s 21us/step - loss: 3.0109 - acc: 0.6836\n",
      "Epoch 131/150\n",
      "768/768 [==============================] - 0s 23us/step - loss: 3.0107 - acc: 0.6875\n",
      "Epoch 132/150\n",
      "768/768 [==============================] - 0s 20us/step - loss: 3.0140 - acc: 0.6823\n",
      "Epoch 133/150\n",
      "768/768 [==============================] - 0s 22us/step - loss: 3.0093 - acc: 0.6966\n",
      "Epoch 134/150\n",
      "768/768 [==============================] - 0s 23us/step - loss: 3.0105 - acc: 0.6836\n",
      "Epoch 135/150\n",
      "768/768 [==============================] - 0s 22us/step - loss: 3.0112 - acc: 0.6940\n",
      "Epoch 136/150\n",
      "768/768 [==============================] - 0s 21us/step - loss: 3.0108 - acc: 0.6849\n",
      "Epoch 137/150\n",
      "768/768 [==============================] - 0s 22us/step - loss: 3.0097 - acc: 0.6914\n",
      "Epoch 138/150\n",
      "768/768 [==============================] - 0s 22us/step - loss: 3.0119 - acc: 0.6784\n",
      "Epoch 139/150\n",
      "768/768 [==============================] - 0s 23us/step - loss: 3.0102 - acc: 0.6914\n",
      "Epoch 140/150\n",
      "768/768 [==============================] - 0s 21us/step - loss: 3.0092 - acc: 0.6953\n",
      "Epoch 141/150\n",
      "768/768 [==============================] - 0s 22us/step - loss: 3.0110 - acc: 0.6875\n",
      "Epoch 142/150\n",
      "768/768 [==============================] - 0s 22us/step - loss: 3.0072 - acc: 0.6901\n",
      "Epoch 143/150\n",
      "768/768 [==============================] - 0s 22us/step - loss: 3.0098 - acc: 0.6836\n",
      "Epoch 144/150\n",
      "768/768 [==============================] - 0s 23us/step - loss: 3.0067 - acc: 0.6953\n",
      "Epoch 145/150\n",
      "768/768 [==============================] - 0s 20us/step - loss: 3.0116 - acc: 0.6862\n",
      "Epoch 146/150\n",
      "768/768 [==============================] - 0s 22us/step - loss: 3.0137 - acc: 0.6875\n",
      "Epoch 147/150\n",
      "768/768 [==============================] - 0s 20us/step - loss: 3.0142 - acc: 0.6823\n",
      "Epoch 148/150\n",
      "768/768 [==============================] - 0s 21us/step - loss: 3.0109 - acc: 0.6888\n",
      "Epoch 149/150\n",
      "768/768 [==============================] - 0s 21us/step - loss: 3.0066 - acc: 0.6901\n",
      "Epoch 150/150\n",
      "768/768 [==============================] - 0s 21us/step - loss: 3.0106 - acc: 0.6836\n"
     ]
    },
    {
     "data": {
      "text/plain": [
       "<keras.callbacks.History at 0x21e8831dfd0>"
      ]
     },
     "execution_count": 15,
     "metadata": {},
     "output_type": "execute_result"
    }
   ],
   "source": [
    "model.fit(X, Y, epochs=150)"
   ]
  },
  {
   "cell_type": "markdown",
   "metadata": {
    "colab_type": "text",
    "id": "BSybwWEJtGFm"
   },
   "source": [
    "### Evaluate Model"
   ]
  },
  {
   "cell_type": "code",
   "execution_count": 18,
   "metadata": {
    "colab": {
     "base_uri": "https://localhost:8080/",
     "height": 52
    },
    "colab_type": "code",
    "id": "34wh8z9MvFMp",
    "outputId": "f55fa2e8-59fe-4072-a8d3-6f2b9b8aa9c0"
   },
   "outputs": [
    {
     "name": "stdout",
     "output_type": "stream",
     "text": [
      "768/768 [==============================] - 0s 12us/step\n",
      "acc: 69.27083333333334\n"
     ]
    }
   ],
   "source": [
    "scores = model.evaluate(X, Y)\n",
    "print(f\"{model.metrics_names[1]}: {scores[1]*100}\")"
   ]
  },
  {
   "cell_type": "markdown",
   "metadata": {
    "colab_type": "text",
    "id": "AIJoRBxHy27n"
   },
   "source": [
    "# Keras Perceptron Model in 4 lines of code:"
   ]
  },
  {
   "cell_type": "code",
   "execution_count": 19,
   "metadata": {
    "colab": {
     "base_uri": "https://localhost:8080/",
     "height": 5216
    },
    "colab_type": "code",
    "id": "TQxyONqKvFxB",
    "outputId": "12966e66-2297-4f82-85b3-c275a9c38563"
   },
   "outputs": [
    {
     "name": "stdout",
     "output_type": "stream",
     "text": [
      "Epoch 1/150\n",
      "768/768 [==============================] - 0s 211us/step - loss: 5.1961 - acc: 0.6406\n",
      "Epoch 2/150\n",
      "768/768 [==============================] - 0s 25us/step - loss: 5.1543 - acc: 0.6432\n",
      "Epoch 3/150\n",
      "768/768 [==============================] - 0s 26us/step - loss: 5.1591 - acc: 0.6445\n",
      "Epoch 4/150\n",
      "768/768 [==============================] - 0s 26us/step - loss: 5.1411 - acc: 0.6458\n",
      "Epoch 5/150\n",
      "768/768 [==============================] - 0s 29us/step - loss: 5.1398 - acc: 0.6393\n",
      "Epoch 6/150\n",
      "768/768 [==============================] - 0s 27us/step - loss: 5.1290 - acc: 0.6432\n",
      "Epoch 7/150\n",
      "768/768 [==============================] - 0s 23us/step - loss: 5.1204 - acc: 0.6406\n",
      "Epoch 8/150\n",
      "768/768 [==============================] - 0s 22us/step - loss: 5.1113 - acc: 0.6419\n",
      "Epoch 9/150\n",
      "768/768 [==============================] - 0s 23us/step - loss: 5.1014 - acc: 0.6432\n",
      "Epoch 10/150\n",
      "768/768 [==============================] - 0s 26us/step - loss: 5.0953 - acc: 0.6432\n",
      "Epoch 11/150\n",
      "768/768 [==============================] - 0s 23us/step - loss: 5.0881 - acc: 0.6445\n",
      "Epoch 12/150\n",
      "768/768 [==============================] - 0s 26us/step - loss: 5.0661 - acc: 0.6419\n",
      "Epoch 13/150\n",
      "768/768 [==============================] - 0s 25us/step - loss: 5.0624 - acc: 0.6406\n",
      "Epoch 14/150\n",
      "768/768 [==============================] - 0s 25us/step - loss: 5.0495 - acc: 0.6419\n",
      "Epoch 15/150\n",
      "768/768 [==============================] - 0s 27us/step - loss: 5.0486 - acc: 0.6432\n",
      "Epoch 16/150\n",
      "768/768 [==============================] - 0s 23us/step - loss: 5.0213 - acc: 0.6419\n",
      "Epoch 17/150\n",
      "768/768 [==============================] - 0s 25us/step - loss: 5.0041 - acc: 0.6419\n",
      "Epoch 18/150\n",
      "768/768 [==============================] - 0s 23us/step - loss: 4.9962 - acc: 0.6432\n",
      "Epoch 19/150\n",
      "768/768 [==============================] - 0s 23us/step - loss: 4.9892 - acc: 0.6380\n",
      "Epoch 20/150\n",
      "768/768 [==============================] - 0s 27us/step - loss: 4.9566 - acc: 0.6367\n",
      "Epoch 21/150\n",
      "768/768 [==============================] - 0s 23us/step - loss: 4.9393 - acc: 0.6406\n",
      "Epoch 22/150\n",
      "768/768 [==============================] - 0s 26us/step - loss: 4.9275 - acc: 0.6419\n",
      "Epoch 23/150\n",
      "768/768 [==============================] - 0s 23us/step - loss: 4.9333 - acc: 0.6393\n",
      "Epoch 24/150\n",
      "768/768 [==============================] - 0s 25us/step - loss: 4.8990 - acc: 0.6432\n",
      "Epoch 25/150\n",
      "768/768 [==============================] - 0s 26us/step - loss: 4.8765 - acc: 0.6432\n",
      "Epoch 26/150\n",
      "768/768 [==============================] - 0s 25us/step - loss: 4.8573 - acc: 0.6432\n",
      "Epoch 27/150\n",
      "768/768 [==============================] - 0s 23us/step - loss: 4.8397 - acc: 0.6445\n",
      "Epoch 28/150\n",
      "768/768 [==============================] - 0s 25us/step - loss: 4.8133 - acc: 0.6419\n",
      "Epoch 29/150\n",
      "768/768 [==============================] - 0s 23us/step - loss: 4.7876 - acc: 0.6419\n",
      "Epoch 30/150\n",
      "768/768 [==============================] - 0s 23us/step - loss: 4.7966 - acc: 0.6445\n",
      "Epoch 31/150\n",
      "768/768 [==============================] - 0s 23us/step - loss: 4.7522 - acc: 0.6432\n",
      "Epoch 32/150\n",
      "768/768 [==============================] - 0s 25us/step - loss: 4.7126 - acc: 0.6484\n",
      "Epoch 33/150\n",
      "768/768 [==============================] - 0s 26us/step - loss: 4.6799 - acc: 0.6445\n",
      "Epoch 34/150\n",
      "768/768 [==============================] - 0s 23us/step - loss: 4.6107 - acc: 0.6393\n",
      "Epoch 35/150\n",
      "768/768 [==============================] - 0s 26us/step - loss: 4.4907 - acc: 0.6445\n",
      "Epoch 36/150\n",
      "768/768 [==============================] - 0s 20us/step - loss: 4.2513 - acc: 0.6302\n",
      "Epoch 37/150\n",
      "768/768 [==============================] - 0s 22us/step - loss: 4.0063 - acc: 0.5951\n",
      "Epoch 38/150\n",
      "768/768 [==============================] - 0s 21us/step - loss: 3.7564 - acc: 0.5807\n",
      "Epoch 39/150\n",
      "768/768 [==============================] - 0s 21us/step - loss: 3.5537 - acc: 0.5781\n",
      "Epoch 40/150\n",
      "768/768 [==============================] - 0s 21us/step - loss: 3.4200 - acc: 0.5938\n",
      "Epoch 41/150\n",
      "768/768 [==============================] - 0s 21us/step - loss: 3.3199 - acc: 0.5990\n",
      "Epoch 42/150\n",
      "768/768 [==============================] - 0s 22us/step - loss: 3.2276 - acc: 0.6068\n",
      "Epoch 43/150\n",
      "768/768 [==============================] - 0s 21us/step - loss: 3.1223 - acc: 0.6068\n",
      "Epoch 44/150\n",
      "768/768 [==============================] - 0s 21us/step - loss: 3.0405 - acc: 0.6172\n",
      "Epoch 45/150\n",
      "768/768 [==============================] - 0s 22us/step - loss: 2.9429 - acc: 0.6211\n",
      "Epoch 46/150\n",
      "768/768 [==============================] - 0s 23us/step - loss: 2.8473 - acc: 0.6185\n",
      "Epoch 47/150\n",
      "768/768 [==============================] - 0s 21us/step - loss: 2.7302 - acc: 0.6198\n",
      "Epoch 48/150\n",
      "768/768 [==============================] - 0s 22us/step - loss: 2.6032 - acc: 0.6211\n",
      "Epoch 49/150\n",
      "768/768 [==============================] - 0s 21us/step - loss: 2.4940 - acc: 0.6263\n",
      "Epoch 50/150\n",
      "768/768 [==============================] - 0s 22us/step - loss: 2.3693 - acc: 0.6198\n",
      "Epoch 51/150\n",
      "768/768 [==============================] - 0s 21us/step - loss: 2.2310 - acc: 0.6211\n",
      "Epoch 52/150\n",
      "768/768 [==============================] - 0s 21us/step - loss: 2.0987 - acc: 0.6237\n",
      "Epoch 53/150\n",
      "768/768 [==============================] - 0s 21us/step - loss: 1.9598 - acc: 0.6198\n",
      "Epoch 54/150\n",
      "768/768 [==============================] - 0s 21us/step - loss: 1.8249 - acc: 0.6289\n",
      "Epoch 55/150\n",
      "768/768 [==============================] - 0s 20us/step - loss: 1.7080 - acc: 0.6211\n",
      "Epoch 56/150\n",
      "768/768 [==============================] - 0s 20us/step - loss: 1.5564 - acc: 0.6185\n",
      "Epoch 57/150\n",
      "768/768 [==============================] - 0s 21us/step - loss: 1.4456 - acc: 0.6276\n",
      "Epoch 58/150\n",
      "768/768 [==============================] - 0s 22us/step - loss: 1.3236 - acc: 0.6146\n",
      "Epoch 59/150\n",
      "768/768 [==============================] - 0s 22us/step - loss: 1.2170 - acc: 0.6380\n",
      "Epoch 60/150\n",
      "768/768 [==============================] - 0s 20us/step - loss: 1.1510 - acc: 0.6315\n",
      "Epoch 61/150\n",
      "768/768 [==============================] - 0s 21us/step - loss: 1.0689 - acc: 0.6380\n",
      "Epoch 62/150\n",
      "768/768 [==============================] - 0s 22us/step - loss: 0.9843 - acc: 0.6406\n",
      "Epoch 63/150\n",
      "768/768 [==============================] - 0s 22us/step - loss: 0.9255 - acc: 0.6432\n",
      "Epoch 64/150\n",
      "768/768 [==============================] - 0s 21us/step - loss: 0.8790 - acc: 0.6380\n",
      "Epoch 65/150\n",
      "768/768 [==============================] - 0s 21us/step - loss: 0.8345 - acc: 0.6471\n",
      "Epoch 66/150\n",
      "768/768 [==============================] - 0s 23us/step - loss: 0.8081 - acc: 0.6445\n",
      "Epoch 67/150\n",
      "768/768 [==============================] - 0s 22us/step - loss: 0.7851 - acc: 0.6562\n",
      "Epoch 68/150\n",
      "768/768 [==============================] - 0s 21us/step - loss: 0.7581 - acc: 0.6562\n",
      "Epoch 69/150\n",
      "768/768 [==============================] - 0s 21us/step - loss: 0.7333 - acc: 0.6667\n",
      "Epoch 70/150\n",
      "768/768 [==============================] - 0s 21us/step - loss: 0.7241 - acc: 0.6719\n",
      "Epoch 71/150\n",
      "768/768 [==============================] - 0s 22us/step - loss: 0.7274 - acc: 0.6562\n",
      "Epoch 72/150\n",
      "768/768 [==============================] - 0s 21us/step - loss: 0.7007 - acc: 0.6680\n",
      "Epoch 73/150\n",
      "768/768 [==============================] - 0s 21us/step - loss: 0.6992 - acc: 0.6680\n",
      "Epoch 74/150\n",
      "768/768 [==============================] - 0s 23us/step - loss: 0.6880 - acc: 0.6797\n",
      "Epoch 75/150\n",
      "768/768 [==============================] - 0s 21us/step - loss: 0.6758 - acc: 0.6901\n",
      "Epoch 76/150\n",
      "768/768 [==============================] - 0s 21us/step - loss: 0.6730 - acc: 0.6836\n",
      "Epoch 77/150\n",
      "768/768 [==============================] - 0s 21us/step - loss: 0.6799 - acc: 0.6693\n",
      "Epoch 78/150\n",
      "768/768 [==============================] - 0s 21us/step - loss: 0.6560 - acc: 0.6914\n",
      "Epoch 79/150\n",
      "768/768 [==============================] - 0s 21us/step - loss: 0.6563 - acc: 0.6875\n",
      "Epoch 80/150\n",
      "768/768 [==============================] - 0s 21us/step - loss: 0.6517 - acc: 0.6888\n",
      "Epoch 81/150\n",
      "768/768 [==============================] - 0s 21us/step - loss: 0.6503 - acc: 0.6914\n",
      "Epoch 82/150\n",
      "768/768 [==============================] - 0s 21us/step - loss: 0.6546 - acc: 0.6979\n",
      "Epoch 83/150\n",
      "768/768 [==============================] - 0s 22us/step - loss: 0.6438 - acc: 0.7070\n",
      "Epoch 84/150\n"
     ]
    },
    {
     "name": "stdout",
     "output_type": "stream",
     "text": [
      "768/768 [==============================] - 0s 22us/step - loss: 0.6470 - acc: 0.6940\n",
      "Epoch 85/150\n",
      "768/768 [==============================] - 0s 23us/step - loss: 0.6363 - acc: 0.6875\n",
      "Epoch 86/150\n",
      "768/768 [==============================] - 0s 21us/step - loss: 0.6326 - acc: 0.7018\n",
      "Epoch 87/150\n",
      "768/768 [==============================] - 0s 21us/step - loss: 0.6307 - acc: 0.6979\n",
      "Epoch 88/150\n",
      "768/768 [==============================] - 0s 22us/step - loss: 0.6287 - acc: 0.7005\n",
      "Epoch 89/150\n",
      "768/768 [==============================] - 0s 21us/step - loss: 0.6268 - acc: 0.6940\n",
      "Epoch 90/150\n",
      "768/768 [==============================] - 0s 20us/step - loss: 0.6194 - acc: 0.7135\n",
      "Epoch 91/150\n",
      "768/768 [==============================] - 0s 20us/step - loss: 0.6221 - acc: 0.7005\n",
      "Epoch 92/150\n",
      "768/768 [==============================] - 0s 22us/step - loss: 0.6190 - acc: 0.6992\n",
      "Epoch 93/150\n",
      "768/768 [==============================] - 0s 21us/step - loss: 0.6164 - acc: 0.7018\n",
      "Epoch 94/150\n",
      "768/768 [==============================] - 0s 22us/step - loss: 0.6174 - acc: 0.6940\n",
      "Epoch 95/150\n",
      "768/768 [==============================] - 0s 20us/step - loss: 0.6200 - acc: 0.6901\n",
      "Epoch 96/150\n",
      "768/768 [==============================] - 0s 21us/step - loss: 0.6180 - acc: 0.7005\n",
      "Epoch 97/150\n",
      "768/768 [==============================] - 0s 20us/step - loss: 0.6138 - acc: 0.7005\n",
      "Epoch 98/150\n",
      "768/768 [==============================] - 0s 22us/step - loss: 0.6222 - acc: 0.7031\n",
      "Epoch 99/150\n",
      "768/768 [==============================] - 0s 21us/step - loss: 0.6119 - acc: 0.7083\n",
      "Epoch 100/150\n",
      "768/768 [==============================] - 0s 22us/step - loss: 0.6101 - acc: 0.7070\n",
      "Epoch 101/150\n",
      "768/768 [==============================] - 0s 25us/step - loss: 0.6061 - acc: 0.7031\n",
      "Epoch 102/150\n",
      "768/768 [==============================] - 0s 25us/step - loss: 0.6061 - acc: 0.7044\n",
      "Epoch 103/150\n",
      "768/768 [==============================] - 0s 22us/step - loss: 0.6170 - acc: 0.6901\n",
      "Epoch 104/150\n",
      "768/768 [==============================] - 0s 22us/step - loss: 0.6048 - acc: 0.7044\n",
      "Epoch 105/150\n",
      "768/768 [==============================] - 0s 20us/step - loss: 0.6071 - acc: 0.7044\n",
      "Epoch 106/150\n",
      "768/768 [==============================] - 0s 21us/step - loss: 0.6121 - acc: 0.6927\n",
      "Epoch 107/150\n",
      "768/768 [==============================] - 0s 21us/step - loss: 0.6051 - acc: 0.6940\n",
      "Epoch 108/150\n",
      "768/768 [==============================] - 0s 22us/step - loss: 0.6118 - acc: 0.6979\n",
      "Epoch 109/150\n",
      "768/768 [==============================] - 0s 21us/step - loss: 0.6046 - acc: 0.6953\n",
      "Epoch 110/150\n",
      "768/768 [==============================] - 0s 20us/step - loss: 0.6026 - acc: 0.6914\n",
      "Epoch 111/150\n",
      "768/768 [==============================] - ETA: 0s - loss: 0.5940 - acc: 0.750 - 0s 21us/step - loss: 0.6005 - acc: 0.7174\n",
      "Epoch 112/150\n",
      "768/768 [==============================] - 0s 21us/step - loss: 0.5990 - acc: 0.7070\n",
      "Epoch 113/150\n",
      "768/768 [==============================] - 0s 21us/step - loss: 0.6028 - acc: 0.6992\n",
      "Epoch 114/150\n",
      "768/768 [==============================] - 0s 21us/step - loss: 0.6040 - acc: 0.7031\n",
      "Epoch 115/150\n",
      "768/768 [==============================] - 0s 22us/step - loss: 0.6036 - acc: 0.6901\n",
      "Epoch 116/150\n",
      "768/768 [==============================] - 0s 21us/step - loss: 0.5959 - acc: 0.7083\n",
      "Epoch 117/150\n",
      "768/768 [==============================] - 0s 20us/step - loss: 0.5965 - acc: 0.6953\n",
      "Epoch 118/150\n",
      "768/768 [==============================] - 0s 20us/step - loss: 0.6043 - acc: 0.7188\n",
      "Epoch 119/150\n",
      "768/768 [==============================] - 0s 22us/step - loss: 0.5969 - acc: 0.7018\n",
      "Epoch 120/150\n",
      "768/768 [==============================] - 0s 21us/step - loss: 0.6057 - acc: 0.6979\n",
      "Epoch 121/150\n",
      "768/768 [==============================] - 0s 22us/step - loss: 0.6000 - acc: 0.7096\n",
      "Epoch 122/150\n",
      "768/768 [==============================] - 0s 21us/step - loss: 0.5985 - acc: 0.6992\n",
      "Epoch 123/150\n",
      "768/768 [==============================] - 0s 21us/step - loss: 0.6085 - acc: 0.6836\n",
      "Epoch 124/150\n",
      "768/768 [==============================] - 0s 21us/step - loss: 0.6004 - acc: 0.7044\n",
      "Epoch 125/150\n",
      "768/768 [==============================] - 0s 20us/step - loss: 0.6000 - acc: 0.6940\n",
      "Epoch 126/150\n",
      "768/768 [==============================] - 0s 21us/step - loss: 0.6005 - acc: 0.6927\n",
      "Epoch 127/150\n",
      "768/768 [==============================] - 0s 20us/step - loss: 0.6068 - acc: 0.6927\n",
      "Epoch 128/150\n",
      "768/768 [==============================] - 0s 22us/step - loss: 0.5946 - acc: 0.7044\n",
      "Epoch 129/150\n",
      "768/768 [==============================] - 0s 22us/step - loss: 0.5925 - acc: 0.7057\n",
      "Epoch 130/150\n",
      "768/768 [==============================] - 0s 21us/step - loss: 0.5925 - acc: 0.7044\n",
      "Epoch 131/150\n",
      "768/768 [==============================] - 0s 21us/step - loss: 0.5900 - acc: 0.6979\n",
      "Epoch 132/150\n",
      "768/768 [==============================] - 0s 21us/step - loss: 0.5956 - acc: 0.6966\n",
      "Epoch 133/150\n",
      "768/768 [==============================] - 0s 21us/step - loss: 0.5917 - acc: 0.7044\n",
      "Epoch 134/150\n",
      "768/768 [==============================] - 0s 22us/step - loss: 0.5888 - acc: 0.7253\n",
      "Epoch 135/150\n",
      "768/768 [==============================] - 0s 21us/step - loss: 0.5923 - acc: 0.7031\n",
      "Epoch 136/150\n",
      "768/768 [==============================] - 0s 21us/step - loss: 0.5927 - acc: 0.6940\n",
      "Epoch 137/150\n",
      "768/768 [==============================] - 0s 22us/step - loss: 0.5908 - acc: 0.7083\n",
      "Epoch 138/150\n",
      "768/768 [==============================] - 0s 21us/step - loss: 0.5883 - acc: 0.7109\n",
      "Epoch 139/150\n",
      "768/768 [==============================] - 0s 21us/step - loss: 0.5938 - acc: 0.7070\n",
      "Epoch 140/150\n",
      "768/768 [==============================] - 0s 21us/step - loss: 0.5935 - acc: 0.7044\n",
      "Epoch 141/150\n",
      "768/768 [==============================] - 0s 20us/step - loss: 0.5872 - acc: 0.7148\n",
      "Epoch 142/150\n",
      "768/768 [==============================] - 0s 21us/step - loss: 0.5899 - acc: 0.7005\n",
      "Epoch 143/150\n",
      "768/768 [==============================] - 0s 21us/step - loss: 0.5967 - acc: 0.7031\n",
      "Epoch 144/150\n",
      "768/768 [==============================] - 0s 21us/step - loss: 0.5875 - acc: 0.7188\n",
      "Epoch 145/150\n",
      "768/768 [==============================] - 0s 21us/step - loss: 0.5890 - acc: 0.7044\n",
      "Epoch 146/150\n",
      "768/768 [==============================] - 0s 22us/step - loss: 0.5903 - acc: 0.7057\n",
      "Epoch 147/150\n",
      "768/768 [==============================] - 0s 23us/step - loss: 0.5913 - acc: 0.6979\n",
      "Epoch 148/150\n",
      "768/768 [==============================] - 0s 21us/step - loss: 0.5994 - acc: 0.6758\n",
      "Epoch 149/150\n",
      "768/768 [==============================] - 0s 21us/step - loss: 0.5893 - acc: 0.6927\n",
      "Epoch 150/150\n",
      "768/768 [==============================] - 0s 21us/step - loss: 0.5843 - acc: 0.7148\n"
     ]
    },
    {
     "data": {
      "text/plain": [
       "<keras.callbacks.History at 0x21e8871eef0>"
      ]
     },
     "execution_count": 19,
     "metadata": {},
     "output_type": "execute_result"
    }
   ],
   "source": [
    "model = Sequential()\n",
    "model.add(Dense(1, input_dim=8, activation='sigmoid'))\n",
    "model.compile(loss='binary_crossentropy', optimizer='adam', metrics=['accuracy'])\n",
    "model.fit(X, Y, epochs=150)"
   ]
  },
  {
   "cell_type": "code",
   "execution_count": 20,
   "metadata": {
    "colab": {
     "base_uri": "https://localhost:8080/",
     "height": 69
    },
    "colab_type": "code",
    "id": "Z1wfKUxszPKa",
    "outputId": "0cdacd1d-6e5a-4bbe-fabb-568cd94724be"
   },
   "outputs": [
    {
     "name": "stdout",
     "output_type": "stream",
     "text": [
      "768/768 [==============================] - 0s 52us/step\n",
      "acc: 71.875\n"
     ]
    }
   ],
   "source": [
    "# evaluate the model\n",
    "scores = model.evaluate(X, Y)\n",
    "print(f\"{model.metrics_names[1]}: {scores[1]*100}\")"
   ]
  },
  {
   "cell_type": "markdown",
   "metadata": {
    "colab_type": "text",
    "id": "zHYB7k9q3O8T"
   },
   "source": [
    "### Why are we getting such different results if we re-run the model?\n",
    "\n",
    "<https://machinelearningmastery.com/randomness-in-machine-learning/>"
   ]
  },
  {
   "cell_type": "markdown",
   "metadata": {
    "colab_type": "text",
    "id": "ueDVpctAzvy8"
   },
   "source": [
    "# What architecture should we try?"
   ]
  },
  {
   "cell_type": "code",
   "execution_count": 22,
   "metadata": {
    "colab": {},
    "colab_type": "code",
    "id": "6W2Sc7-LzQo_"
   },
   "outputs": [
    {
     "name": "stdout",
     "output_type": "stream",
     "text": [
      "_________________________________________________________________\n",
      "Layer (type)                 Output Shape              Param #   \n",
      "=================================================================\n",
      "dense_4 (Dense)              (None, 4)                 36        \n",
      "_________________________________________________________________\n",
      "dense_5 (Dense)              (None, 3)                 15        \n",
      "_________________________________________________________________\n",
      "dense_6 (Dense)              (None, 1)                 4         \n",
      "=================================================================\n",
      "Total params: 55\n",
      "Trainable params: 55\n",
      "Non-trainable params: 0\n",
      "_________________________________________________________________\n"
     ]
    }
   ],
   "source": [
    "model_improved = Sequential()\n",
    "model_improved.add(Dense(4, input_dim=8, activation='relu')) #input \n",
    "model_improved.add(Dense(3, activation='relu')) #hidden\n",
    "model_improved.add(Dense(1,activation='sigmoid')) #output\n",
    "model_improved.compile(loss='binary_crossentropy', optimizer='adam', metrics=['accuracy']) \n",
    "model_improved.summary()"
   ]
  },
  {
   "cell_type": "code",
   "execution_count": 23,
   "metadata": {},
   "outputs": [
    {
     "name": "stdout",
     "output_type": "stream",
     "text": [
      "Epoch 1/110\n",
      "768/768 [==============================] - 0s 378us/step - loss: 3.5828 - acc: 0.6393\n",
      "Epoch 2/110\n",
      "768/768 [==============================] - 0s 31us/step - loss: 3.0068 - acc: 0.6081\n",
      "Epoch 3/110\n",
      "768/768 [==============================] - 0s 33us/step - loss: 2.4479 - acc: 0.5599\n",
      "Epoch 4/110\n",
      "768/768 [==============================] - 0s 25us/step - loss: 1.8002 - acc: 0.5260\n",
      "Epoch 5/110\n",
      "768/768 [==============================] - 0s 27us/step - loss: 1.2320 - acc: 0.5234\n",
      "Epoch 6/110\n",
      "768/768 [==============================] - 0s 33us/step - loss: 0.9145 - acc: 0.5156\n",
      "Epoch 7/110\n",
      "768/768 [==============================] - 0s 29us/step - loss: 0.7584 - acc: 0.5143\n",
      "Epoch 8/110\n",
      "768/768 [==============================] - 0s 26us/step - loss: 0.7100 - acc: 0.5130\n",
      "Epoch 9/110\n",
      "768/768 [==============================] - 0s 33us/step - loss: 0.6990 - acc: 0.5091\n",
      "Epoch 10/110\n",
      "768/768 [==============================] - 0s 27us/step - loss: 0.6955 - acc: 0.5156\n",
      "Epoch 11/110\n",
      "768/768 [==============================] - 0s 34us/step - loss: 0.6927 - acc: 0.5117\n",
      "Epoch 12/110\n",
      "768/768 [==============================] - 0s 27us/step - loss: 0.6901 - acc: 0.5104\n",
      "Epoch 13/110\n",
      "768/768 [==============================] - 0s 26us/step - loss: 0.6865 - acc: 0.6510\n",
      "Epoch 14/110\n",
      "768/768 [==============================] - 0s 36us/step - loss: 0.6841 - acc: 0.6510\n",
      "Epoch 15/110\n",
      "768/768 [==============================] - 0s 30us/step - loss: 0.6816 - acc: 0.6510\n",
      "Epoch 16/110\n",
      "768/768 [==============================] - 0s 25us/step - loss: 0.6790 - acc: 0.6510\n",
      "Epoch 17/110\n",
      "768/768 [==============================] - 0s 27us/step - loss: 0.6785 - acc: 0.6510\n",
      "Epoch 18/110\n",
      "768/768 [==============================] - 0s 35us/step - loss: 0.6755 - acc: 0.6510\n",
      "Epoch 19/110\n",
      "768/768 [==============================] - ETA: 0s - loss: 0.7021 - acc: 0.562 - 0s 31us/step - loss: 0.6728 - acc: 0.6510\n",
      "Epoch 20/110\n",
      "768/768 [==============================] - 0s 34us/step - loss: 0.6709 - acc: 0.6510\n",
      "Epoch 21/110\n",
      "768/768 [==============================] - 0s 25us/step - loss: 0.6695 - acc: 0.6510\n",
      "Epoch 22/110\n",
      "768/768 [==============================] - 0s 36us/step - loss: 0.6678 - acc: 0.6510\n",
      "Epoch 23/110\n",
      "768/768 [==============================] - 0s 26us/step - loss: 0.6669 - acc: 0.6510\n",
      "Epoch 24/110\n",
      "768/768 [==============================] - 0s 25us/step - loss: 0.6654 - acc: 0.6510\n",
      "Epoch 25/110\n",
      "768/768 [==============================] - 0s 25us/step - loss: 0.6635 - acc: 0.6510\n",
      "Epoch 26/110\n",
      "768/768 [==============================] - 0s 34us/step - loss: 0.6622 - acc: 0.6510\n",
      "Epoch 27/110\n",
      "768/768 [==============================] - 0s 38us/step - loss: 0.6614 - acc: 0.6510\n",
      "Epoch 28/110\n",
      "768/768 [==============================] - 0s 29us/step - loss: 0.6605 - acc: 0.6510\n",
      "Epoch 29/110\n",
      "768/768 [==============================] - 0s 30us/step - loss: 0.6599 - acc: 0.6510\n",
      "Epoch 30/110\n",
      "768/768 [==============================] - 0s 30us/step - loss: 0.6582 - acc: 0.6510\n",
      "Epoch 31/110\n",
      "768/768 [==============================] - 0s 30us/step - loss: 0.6567 - acc: 0.6510\n",
      "Epoch 32/110\n",
      "768/768 [==============================] - 0s 30us/step - loss: 0.6565 - acc: 0.6510\n",
      "Epoch 33/110\n",
      "768/768 [==============================] - ETA: 0s - loss: 0.6608 - acc: 0.625 - 0s 26us/step - loss: 0.6550 - acc: 0.6510\n",
      "Epoch 34/110\n",
      "768/768 [==============================] - 0s 26us/step - loss: 0.6542 - acc: 0.6510\n",
      "Epoch 35/110\n",
      "768/768 [==============================] - 0s 38us/step - loss: 0.6537 - acc: 0.6510\n",
      "Epoch 36/110\n",
      "768/768 [==============================] - 0s 31us/step - loss: 0.6527 - acc: 0.6510\n",
      "Epoch 37/110\n",
      "768/768 [==============================] - 0s 30us/step - loss: 0.6518 - acc: 0.6510\n",
      "Epoch 38/110\n",
      "768/768 [==============================] - 0s 25us/step - loss: 0.6519 - acc: 0.6510\n",
      "Epoch 39/110\n",
      "768/768 [==============================] - 0s 35us/step - loss: 0.6503 - acc: 0.6510\n",
      "Epoch 40/110\n",
      "768/768 [==============================] - 0s 29us/step - loss: 0.6503 - acc: 0.6497\n",
      "Epoch 41/110\n",
      "768/768 [==============================] - 0s 30us/step - loss: 0.6500 - acc: 0.6523\n",
      "Epoch 42/110\n",
      "768/768 [==============================] - 0s 26us/step - loss: 0.6483 - acc: 0.6510\n",
      "Epoch 43/110\n",
      "768/768 [==============================] - 0s 30us/step - loss: 0.6485 - acc: 0.6510\n",
      "Epoch 44/110\n",
      "768/768 [==============================] - 0s 38us/step - loss: 0.6478 - acc: 0.6510\n",
      "Epoch 45/110\n",
      "768/768 [==============================] - 0s 27us/step - loss: 0.6473 - acc: 0.6497\n",
      "Epoch 46/110\n",
      "768/768 [==============================] - 0s 29us/step - loss: 0.6464 - acc: 0.6510\n",
      "Epoch 47/110\n",
      "768/768 [==============================] - 0s 26us/step - loss: 0.6472 - acc: 0.6523\n",
      "Epoch 48/110\n",
      "768/768 [==============================] - 0s 27us/step - loss: 0.6457 - acc: 0.6497\n",
      "Epoch 49/110\n",
      "768/768 [==============================] - 0s 33us/step - loss: 0.6453 - acc: 0.6510\n",
      "Epoch 50/110\n",
      "768/768 [==============================] - 0s 23us/step - loss: 0.6448 - acc: 0.6523\n",
      "Epoch 51/110\n",
      "768/768 [==============================] - 0s 26us/step - loss: 0.6445 - acc: 0.6497\n",
      "Epoch 52/110\n",
      "768/768 [==============================] - 0s 34us/step - loss: 0.6446 - acc: 0.6536\n",
      "Epoch 53/110\n",
      "768/768 [==============================] - 0s 29us/step - loss: 0.6441 - acc: 0.6510\n",
      "Epoch 54/110\n",
      "768/768 [==============================] - 0s 33us/step - loss: 0.6437 - acc: 0.6510\n",
      "Epoch 55/110\n",
      "768/768 [==============================] - 0s 25us/step - loss: 0.6432 - acc: 0.6523\n",
      "Epoch 56/110\n",
      "768/768 [==============================] - 0s 26us/step - loss: 0.6430 - acc: 0.6576\n",
      "Epoch 57/110\n",
      "768/768 [==============================] - 0s 26us/step - loss: 0.6427 - acc: 0.6523\n",
      "Epoch 58/110\n",
      "768/768 [==============================] - 0s 30us/step - loss: 0.6422 - acc: 0.6484\n",
      "Epoch 59/110\n",
      "768/768 [==============================] - 0s 23us/step - loss: 0.6420 - acc: 0.6549\n",
      "Epoch 60/110\n",
      "768/768 [==============================] - 0s 26us/step - loss: 0.6418 - acc: 0.6576\n",
      "Epoch 61/110\n",
      "768/768 [==============================] - 0s 33us/step - loss: 0.6419 - acc: 0.6497\n",
      "Epoch 62/110\n",
      "768/768 [==============================] - 0s 30us/step - loss: 0.6405 - acc: 0.6536\n",
      "Epoch 63/110\n",
      "768/768 [==============================] - 0s 31us/step - loss: 0.6411 - acc: 0.6523\n",
      "Epoch 64/110\n",
      "768/768 [==============================] - 0s 23us/step - loss: 0.6406 - acc: 0.6536\n",
      "Epoch 65/110\n",
      "768/768 [==============================] - 0s 27us/step - loss: 0.6403 - acc: 0.6549\n",
      "Epoch 66/110\n",
      "768/768 [==============================] - 0s 31us/step - loss: 0.6406 - acc: 0.6497\n",
      "Epoch 67/110\n",
      "768/768 [==============================] - 0s 29us/step - loss: 0.6390 - acc: 0.6576\n",
      "Epoch 68/110\n",
      "768/768 [==============================] - 0s 23us/step - loss: 0.6393 - acc: 0.6589\n",
      "Epoch 69/110\n",
      "768/768 [==============================] - 0s 29us/step - loss: 0.6392 - acc: 0.6589\n",
      "Epoch 70/110\n",
      "768/768 [==============================] - 0s 25us/step - loss: 0.6381 - acc: 0.6576\n",
      "Epoch 71/110\n",
      "768/768 [==============================] - 0s 29us/step - loss: 0.6383 - acc: 0.6562\n",
      "Epoch 72/110\n",
      "768/768 [==============================] - 0s 30us/step - loss: 0.6383 - acc: 0.6536\n",
      "Epoch 73/110\n",
      "768/768 [==============================] - 0s 25us/step - loss: 0.6377 - acc: 0.6589\n",
      "Epoch 74/110\n",
      "768/768 [==============================] - 0s 26us/step - loss: 0.6371 - acc: 0.6576\n",
      "Epoch 75/110\n",
      "768/768 [==============================] - 0s 31us/step - loss: 0.6383 - acc: 0.6615\n",
      "Epoch 76/110\n",
      "768/768 [==============================] - 0s 25us/step - loss: 0.6376 - acc: 0.6497\n",
      "Epoch 77/110\n",
      "768/768 [==============================] - 0s 23us/step - loss: 0.6352 - acc: 0.6589\n",
      "Epoch 78/110\n",
      "768/768 [==============================] - 0s 25us/step - loss: 0.6365 - acc: 0.6536\n",
      "Epoch 79/110\n",
      "768/768 [==============================] - 0s 30us/step - loss: 0.6344 - acc: 0.6576\n",
      "Epoch 80/110\n",
      "768/768 [==============================] - 0s 26us/step - loss: 0.6346 - acc: 0.6562\n",
      "Epoch 81/110\n",
      "768/768 [==============================] - 0s 30us/step - loss: 0.6341 - acc: 0.6641\n",
      "Epoch 82/110\n",
      "768/768 [==============================] - 0s 30us/step - loss: 0.6350 - acc: 0.6576\n",
      "Epoch 83/110\n"
     ]
    },
    {
     "name": "stdout",
     "output_type": "stream",
     "text": [
      "768/768 [==============================] - 0s 26us/step - loss: 0.6341 - acc: 0.6615\n",
      "Epoch 84/110\n",
      "768/768 [==============================] - 0s 31us/step - loss: 0.6338 - acc: 0.6562\n",
      "Epoch 85/110\n",
      "768/768 [==============================] - 0s 27us/step - loss: 0.6334 - acc: 0.6589\n",
      "Epoch 86/110\n",
      "768/768 [==============================] - 0s 27us/step - loss: 0.6341 - acc: 0.6576\n",
      "Epoch 87/110\n",
      "768/768 [==============================] - 0s 26us/step - loss: 0.6337 - acc: 0.6641\n",
      "Epoch 88/110\n",
      "768/768 [==============================] - 0s 35us/step - loss: 0.6343 - acc: 0.6523\n",
      "Epoch 89/110\n",
      "768/768 [==============================] - 0s 25us/step - loss: 0.6330 - acc: 0.6589\n",
      "Epoch 90/110\n",
      "768/768 [==============================] - 0s 25us/step - loss: 0.6330 - acc: 0.6602\n",
      "Epoch 91/110\n",
      "768/768 [==============================] - 0s 29us/step - loss: 0.6334 - acc: 0.6628\n",
      "Epoch 92/110\n",
      "768/768 [==============================] - 0s 27us/step - loss: 0.6328 - acc: 0.6615\n",
      "Epoch 93/110\n",
      "768/768 [==============================] - 0s 27us/step - loss: 0.6327 - acc: 0.6576\n",
      "Epoch 94/110\n",
      "768/768 [==============================] - 0s 26us/step - loss: 0.6331 - acc: 0.6615\n",
      "Epoch 95/110\n",
      "768/768 [==============================] - 0s 29us/step - loss: 0.6324 - acc: 0.6628\n",
      "Epoch 96/110\n",
      "768/768 [==============================] - 0s 29us/step - loss: 0.6322 - acc: 0.6602\n",
      "Epoch 97/110\n",
      "768/768 [==============================] - 0s 34us/step - loss: 0.6324 - acc: 0.6615\n",
      "Epoch 98/110\n",
      "768/768 [==============================] - 0s 29us/step - loss: 0.6328 - acc: 0.6589\n",
      "Epoch 99/110\n",
      "768/768 [==============================] - 0s 26us/step - loss: 0.6317 - acc: 0.6576\n",
      "Epoch 100/110\n",
      "768/768 [==============================] - 0s 29us/step - loss: 0.6330 - acc: 0.6589\n",
      "Epoch 101/110\n",
      "768/768 [==============================] - 0s 26us/step - loss: 0.6326 - acc: 0.6576\n",
      "Epoch 102/110\n",
      "768/768 [==============================] - 0s 34us/step - loss: 0.6327 - acc: 0.6576\n",
      "Epoch 103/110\n",
      "768/768 [==============================] - 0s 29us/step - loss: 0.6318 - acc: 0.6615\n",
      "Epoch 104/110\n",
      "768/768 [==============================] - 0s 23us/step - loss: 0.6321 - acc: 0.6589\n",
      "Epoch 105/110\n",
      "768/768 [==============================] - 0s 27us/step - loss: 0.6320 - acc: 0.6589\n",
      "Epoch 106/110\n",
      "768/768 [==============================] - 0s 31us/step - loss: 0.6316 - acc: 0.6602\n",
      "Epoch 107/110\n",
      "768/768 [==============================] - 0s 31us/step - loss: 0.6321 - acc: 0.6602\n",
      "Epoch 108/110\n",
      "768/768 [==============================] - 0s 23us/step - loss: 0.6316 - acc: 0.6628\n",
      "Epoch 109/110\n",
      "768/768 [==============================] - 0s 27us/step - loss: 0.6317 - acc: 0.6602\n",
      "Epoch 110/110\n",
      "768/768 [==============================] - 0s 27us/step - loss: 0.6314 - acc: 0.6602\n"
     ]
    },
    {
     "data": {
      "text/plain": [
       "<keras.callbacks.History at 0x21e8871e3c8>"
      ]
     },
     "execution_count": 23,
     "metadata": {},
     "output_type": "execute_result"
    }
   ],
   "source": [
    "model_improved.fit(X,Y,epochs=110)"
   ]
  },
  {
   "cell_type": "code",
   "execution_count": 24,
   "metadata": {},
   "outputs": [
    {
     "name": "stdout",
     "output_type": "stream",
     "text": [
      "768/768 [==============================] - 0s 76us/step\n",
      "acc: 66.015625\n"
     ]
    }
   ],
   "source": [
    "scores = model_improved.evaluate(X, Y)\n",
    "print(f\"{model_improved.metrics_names[1]}: {scores[1]*100}\")"
   ]
  },
  {
   "cell_type": "markdown",
   "metadata": {
    "colab_type": "text",
    "id": "tcjMuxtn6wIQ"
   },
   "source": [
    "# Activation Functions\n",
    "\n",
    "What is an activation function and how does it work?\n",
    "\n",
    "- Takes in a weighted sum of inputs + a bias from the previous layer and outputs an \"activation\" value.\n",
    "- Based its inputs the neuron decides how 'activated' it should be. This can be thought of as the neuron deciding how strongly to fire. You can also think of it as if the neuron is deciding how much of the signal that it has received to pass onto the next layer. \n",
    "- Our choice of activation function does not only affect signal that is passed forward but also affects the backpropagation algorithm. It affects how we update weights in reverse order since activated weight/input sums become the inputs of the next layer. \n"
   ]
  },
  {
   "cell_type": "markdown",
   "metadata": {
    "colab_type": "text",
    "id": "n_b0u8Ch60bA"
   },
   "source": [
    "## Step Function\n",
    "\n",
    "![Heaviside Step Function](https://upload.wikimedia.org/wikipedia/commons/thumb/d/d9/Dirac_distribution_CDF.svg/325px-Dirac_distribution_CDF.svg.png)\n",
    "\n",
    "All or nothing, a little extreme, which is fine, but makes updating weights through backpropagation impossible. Why? remember that during backpropagation we use derivatives in order to determine how much to update or not update weights. What is the derivative of the step function?"
   ]
  },
  {
   "cell_type": "markdown",
   "metadata": {
    "colab_type": "text",
    "id": "vKR0YhIVEnXZ"
   },
   "source": [
    "## Linear Function\n",
    "\n",
    "![Linear Function](http://www.roconnell.net/Parent%20function/linear.gif)\n",
    "\n",
    "The linear function takes the opposite tact from the step function and passes the signal onto the next layer by a constant factor. There are problems with this but the biggest problems again lie in backpropagation. The derivative of any linear function is a horizontal line which would indicate that we should update all weights by a constant amount every time -which on balance wouldn't change the behavior of our network. Linear functions are typically only used for very simple tasks where interpretability is important, but if interpretability is your highest priority, you probably shouldn't be using neural networks in the first place."
   ]
  },
  {
   "cell_type": "markdown",
   "metadata": {
    "colab_type": "text",
    "id": "JFurIVL6EkQ8"
   },
   "source": [
    "## Sigmoid Function\n",
    "\n",
    "![Sigmoid Function](https://upload.wikimedia.org/wikipedia/commons/thumb/8/88/Logistic-curve.svg/480px-Logistic-curve.svg.png)\n",
    "\n",
    "The sigmoid function works great as an activation function! it's continuously differentiable, its derivative doesn't have a constant slope, and having the higher slope in the middle pushes y value predictions towards extremes which is particularly useful for binary classification problems. I mean, this is why we use it as the squishifier in logistic regression as well. It constrains output, but over repeated epochs pushes predictions towards a strong binary prediction. \n",
    "\n",
    "What's the biggest problem with the sigmoid function? The fact that its slope gets pretty flat so quickly after its departure from zero. This means that updating weights based on its gradient really diminishes the size of our weight updates as our model gets more confident about its classifications. This is why even after so many iterations with our test score example we couldn't reach the levels of fit that our gradient descent based model could reach in just a few epochs."
   ]
  },
  {
   "cell_type": "markdown",
   "metadata": {
    "colab_type": "text",
    "id": "hm6p1HWbEhYi"
   },
   "source": [
    "## Tanh Function\n",
    "\n",
    "![Tanh Function](http://mathworld.wolfram.com/images/interactive/TanhReal.gif)\n",
    "\n",
    "What if the sigmoid function didn't get so flat quite as soon when moving away from zero and was a little bit steeper in the middle? That's basically the Tanh function. The Tanh function can actually be created by scaling the sigmoid function by 2 in the y dimension and subtracting 1 from all values. It has basically the same properties as the sigmoid, still struggles from diminishingly flat gradients as we move away from 0, but its derivative is higher around 0 causing weights to move to the extremes a little faster. "
   ]
  },
  {
   "cell_type": "markdown",
   "metadata": {
    "colab_type": "text",
    "id": "sFOn_L6gEcz1"
   },
   "source": [
    "## ReLU Function\n",
    "\n",
    "![ReLU Function](https://cdn-images-1.medium.com/max/937/1*oePAhrm74RNnNEolprmTaQ.png)\n",
    "\n",
    "ReLU stands for Rectified Linear Units it is by far the most commonly used activation function in modern neural networks. It doesn't activate neurons that are being passed a negative signal and passes on positive signals. Think about why this might be useful. Remember how a lot of our initial weights got set to negative numbers by chance? This would have dealt with those negative weights a lot faster than the sigmoid function updating. What does the derivative of this function look like? It looks like the step function! This means that not all neurons are activated. With sigmoid basically all of our neurons are passing some amount of signal even if it's small making it hard for the network to differentiate important and less important connections. ReLU turns off a portion of our less important neurons which decreases computational load, but also helps the network learn what the most important connections are faster. \n",
    "\n",
    "What's the problem with relu? Well the left half of its derivative function shows that for neurons that are initialized with weights that cause them to have no activation, our gradient will not update those neuron's weights, this can lead to dead neurons that never fire and whose weights never get updated. We would probably want to update the weights of neurons that didn't fire even if it's just by a little bit in case we got unlucky with our initial weights and want to give those neurons a chance of turning back on in the future."
   ]
  },
  {
   "cell_type": "markdown",
   "metadata": {
    "colab_type": "text",
    "id": "XWdvWOBIETwk"
   },
   "source": [
    "## Leaky ReLU\n",
    "\n",
    "![Leaky ReLU](https://cdn-images-1.medium.com/max/1600/1*ypsvQH7kvtI2BhzR2eT_Sw.png)\n",
    "\n",
    "Leaky ReLU accomplishes exactly that! it avoids having a gradient of 0 on the left side of its derivative function. This means that even \"dead\" neurons have a chance of being revived over enough iterations. In some specifications the slope of the leaky left-hand side can also be experimented with as a hyperparameter of the model!"
   ]
  },
  {
   "cell_type": "markdown",
   "metadata": {
    "colab_type": "text",
    "id": "FcAxkNFREMFb"
   },
   "source": [
    "## Softmax Function\n",
    "\n",
    "![Softmax Function](https://cdn-images-1.medium.com/max/800/1*670CdxchunD-yAuUWdI7Bw.png)\n",
    "\n",
    "Like the sigmoid function but more useful for multi-class classification problems. The softmax function can take any set of inputs and translate them into probabilities that sum up to 1. This means that we can throw any list of outputs at it and it will translate them into probabilities, this is extremely useful for multi-class classification problems. Like MNIST for example..."
   ]
  },
  {
   "cell_type": "markdown",
   "metadata": {
    "colab_type": "text",
    "id": "23-XRRXKHs34"
   },
   "source": [
    "## Major takeaways\n",
    "\n",
    "- ReLU is generally better at obtaining the optimal model fit.\n",
    "- Sigmoid and its derivatives are usually better at classification problems.\n",
    "- Softmax for multi-class classification problems. \n",
    "\n",
    "You'll typically see ReLU used for all initial layers and then the final layer being sigmoid or softmax for classification problems. But you can experiment and tune these selections as hyperparameters as well!"
   ]
  },
  {
   "cell_type": "markdown",
   "metadata": {
    "colab_type": "text",
    "id": "TWuoXZCCKCI7"
   },
   "source": [
    "## MNIST with Keras \n",
    "\n",
    "### This will be a good chance to bring up dropout regularization. :)"
   ]
  },
  {
   "cell_type": "code",
   "execution_count": 25,
   "metadata": {
    "colab": {},
    "colab_type": "code",
    "id": "jmJ_5azs04pU"
   },
   "outputs": [],
   "source": [
    "import keras \n",
    "from keras.datasets import mnist\n",
    "from keras.models import Sequential \n",
    "from keras.layers import Dense, Dropout\n",
    "import numpy as np "
   ]
  },
  {
   "cell_type": "code",
   "execution_count": 37,
   "metadata": {},
   "outputs": [],
   "source": [
    "batch_size = 64\n",
    "num_classes = 10\n",
    "epochs = 20\n",
    "(X_train, y_train), (X_test, y_test) = mnist.load_data()"
   ]
  },
  {
   "cell_type": "code",
   "execution_count": 38,
   "metadata": {},
   "outputs": [],
   "source": [
    "X_train = X_train.reshape(60000,784)\n",
    "X_test = X_test.reshape(10000,784)\n",
    "X_train = X_train.astype('float32')\n",
    "X_test = X_test.astype('float32')"
   ]
  },
  {
   "cell_type": "code",
   "execution_count": 39,
   "metadata": {},
   "outputs": [
    {
     "data": {
      "text/plain": [
       "array([[0., 0., 0., 0., 0., 1., 0., 0., 0., 0.],\n",
       "       [1., 0., 0., 0., 0., 0., 0., 0., 0., 0.],\n",
       "       [0., 0., 0., 0., 1., 0., 0., 0., 0., 0.],\n",
       "       [0., 1., 0., 0., 0., 0., 0., 0., 0., 0.],\n",
       "       [0., 0., 0., 0., 0., 0., 0., 0., 0., 1.],\n",
       "       [0., 0., 1., 0., 0., 0., 0., 0., 0., 0.],\n",
       "       [0., 1., 0., 0., 0., 0., 0., 0., 0., 0.],\n",
       "       [0., 0., 0., 1., 0., 0., 0., 0., 0., 0.],\n",
       "       [0., 1., 0., 0., 0., 0., 0., 0., 0., 0.],\n",
       "       [0., 0., 0., 0., 1., 0., 0., 0., 0., 0.]], dtype=float32)"
      ]
     },
     "execution_count": 39,
     "metadata": {},
     "output_type": "execute_result"
    }
   ],
   "source": [
    "y_train = keras.utils.to_categorical(y_train, num_classes)\n",
    "y_test = keras.utils.to_categorical(y_test, num_classes)\n",
    "y_train[:10]"
   ]
  },
  {
   "cell_type": "code",
   "execution_count": 40,
   "metadata": {},
   "outputs": [],
   "source": [
    "X_train /= 255\n",
    "X_test /= 255"
   ]
  },
  {
   "cell_type": "code",
   "execution_count": 41,
   "metadata": {},
   "outputs": [
    {
     "name": "stdout",
     "output_type": "stream",
     "text": [
      "_________________________________________________________________\n",
      "Layer (type)                 Output Shape              Param #   \n",
      "=================================================================\n",
      "input (Dense)                (None, 20)                15700     \n",
      "_________________________________________________________________\n",
      "hidden (Dense)               (None, 20)                420       \n",
      "_________________________________________________________________\n",
      "output (Dense)               (None, 10)                210       \n",
      "=================================================================\n",
      "Total params: 16,330\n",
      "Trainable params: 16,330\n",
      "Non-trainable params: 0\n",
      "_________________________________________________________________\n"
     ]
    }
   ],
   "source": [
    "mnist_model = Sequential()\n",
    "mnist_model.add(Dense(20, input_shape=(784,),activation = 'relu', name = 'input'))\n",
    "mnist_model.add(Dense(20, activation = 'relu',name = 'hidden'))\n",
    "mnist_model.add(Dense(num_classes, activation= 'softmax', name='output'))\n",
    "mnist_model.compile(loss = 'categorical_crossentropy', optimizer = 'adam', metrics = ['accuracy'])\n",
    "mnist_model.summary()"
   ]
  },
  {
   "cell_type": "code",
   "execution_count": 42,
   "metadata": {},
   "outputs": [
    {
     "name": "stdout",
     "output_type": "stream",
     "text": [
      "Train on 54000 samples, validate on 6000 samples\n",
      "Epoch 1/20\n",
      "54000/54000 [==============================] - 2s 45us/step - loss: 0.4114 - acc: 0.8805 - val_loss: 0.1999 - val_acc: 0.9443\n",
      "Epoch 2/20\n",
      "54000/54000 [==============================] - 2s 33us/step - loss: 0.2316 - acc: 0.9330 - val_loss: 0.1680 - val_acc: 0.9530\n",
      "Epoch 3/20\n",
      "54000/54000 [==============================] - 2s 31us/step - loss: 0.1962 - acc: 0.9424 - val_loss: 0.1545 - val_acc: 0.9563\n",
      "Epoch 4/20\n",
      "54000/54000 [==============================] - 2s 31us/step - loss: 0.1751 - acc: 0.9489 - val_loss: 0.1428 - val_acc: 0.9612\n",
      "Epoch 5/20\n",
      "54000/54000 [==============================] - 2s 30us/step - loss: 0.1590 - acc: 0.9542 - val_loss: 0.1345 - val_acc: 0.9613\n",
      "Epoch 6/20\n",
      "54000/54000 [==============================] - 2s 30us/step - loss: 0.1448 - acc: 0.9577 - val_loss: 0.1335 - val_acc: 0.9640\n",
      "Epoch 7/20\n",
      "54000/54000 [==============================] - 2s 31us/step - loss: 0.1347 - acc: 0.9604 - val_loss: 0.1318 - val_acc: 0.9650\n",
      "Epoch 8/20\n",
      "54000/54000 [==============================] - 2s 31us/step - loss: 0.1250 - acc: 0.9629 - val_loss: 0.1271 - val_acc: 0.9642\n",
      "Epoch 9/20\n",
      "54000/54000 [==============================] - 2s 31us/step - loss: 0.1178 - acc: 0.9646 - val_loss: 0.1303 - val_acc: 0.9647\n",
      "Epoch 10/20\n",
      "54000/54000 [==============================] - 2s 34us/step - loss: 0.1124 - acc: 0.9658 - val_loss: 0.1245 - val_acc: 0.9660\n",
      "Epoch 11/20\n",
      "54000/54000 [==============================] - 2s 35us/step - loss: 0.1047 - acc: 0.9681 - val_loss: 0.1322 - val_acc: 0.9628\n",
      "Epoch 12/20\n",
      "54000/54000 [==============================] - 2s 32us/step - loss: 0.1000 - acc: 0.9700 - val_loss: 0.1266 - val_acc: 0.9650\n",
      "Epoch 13/20\n",
      "54000/54000 [==============================] - 2s 36us/step - loss: 0.0955 - acc: 0.9711 - val_loss: 0.1324 - val_acc: 0.9645\n",
      "Epoch 14/20\n",
      "54000/54000 [==============================] - 2s 35us/step - loss: 0.0912 - acc: 0.9720 - val_loss: 0.1266 - val_acc: 0.9667\n",
      "Epoch 15/20\n",
      "54000/54000 [==============================] - 2s 35us/step - loss: 0.0872 - acc: 0.9734 - val_loss: 0.1344 - val_acc: 0.9642\n",
      "Epoch 16/20\n",
      "54000/54000 [==============================] - 2s 35us/step - loss: 0.0841 - acc: 0.9744 - val_loss: 0.1248 - val_acc: 0.9667\n",
      "Epoch 17/20\n",
      "54000/54000 [==============================] - 2s 35us/step - loss: 0.0811 - acc: 0.9759 - val_loss: 0.1493 - val_acc: 0.9603\n",
      "Epoch 18/20\n",
      "54000/54000 [==============================] - 2s 36us/step - loss: 0.0778 - acc: 0.9759 - val_loss: 0.1405 - val_acc: 0.9647\n",
      "Epoch 19/20\n",
      "54000/54000 [==============================] - 2s 42us/step - loss: 0.0753 - acc: 0.9763 - val_loss: 0.1292 - val_acc: 0.9658\n",
      "Epoch 20/20\n",
      "54000/54000 [==============================] - 2s 39us/step - loss: 0.0716 - acc: 0.9777 - val_loss: 0.1227 - val_acc: 0.9652\n",
      "10000/10000 [==============================] - 0s 15us/step\n"
     ]
    },
    {
     "ename": "AttributeError",
     "evalue": "'Sequential' object has no attribute 'metric_names'",
     "output_type": "error",
     "traceback": [
      "\u001b[1;31m---------------------------------------------------------------------------\u001b[0m",
      "\u001b[1;31mAttributeError\u001b[0m                            Traceback (most recent call last)",
      "\u001b[1;32m<ipython-input-42-dd46beae5b19>\u001b[0m in \u001b[0;36m<module>\u001b[1;34m\u001b[0m\n\u001b[0;32m      1\u001b[0m \u001b[0mhistory\u001b[0m \u001b[1;33m=\u001b[0m \u001b[0mmnist_model\u001b[0m\u001b[1;33m.\u001b[0m\u001b[0mfit\u001b[0m\u001b[1;33m(\u001b[0m\u001b[0mX_train\u001b[0m\u001b[1;33m,\u001b[0m\u001b[0my_train\u001b[0m\u001b[1;33m,\u001b[0m \u001b[0mepochs\u001b[0m\u001b[1;33m=\u001b[0m\u001b[0mepochs\u001b[0m\u001b[1;33m,\u001b[0m \u001b[0mvalidation_split\u001b[0m\u001b[1;33m=\u001b[0m\u001b[1;36m.1\u001b[0m\u001b[1;33m)\u001b[0m\u001b[1;33m\u001b[0m\u001b[1;33m\u001b[0m\u001b[0m\n\u001b[0;32m      2\u001b[0m \u001b[0mscores\u001b[0m \u001b[1;33m=\u001b[0m \u001b[0mmnist_model\u001b[0m\u001b[1;33m.\u001b[0m\u001b[0mevaluate\u001b[0m\u001b[1;33m(\u001b[0m\u001b[0mX_test\u001b[0m\u001b[1;33m,\u001b[0m \u001b[0my_test\u001b[0m\u001b[1;33m)\u001b[0m\u001b[1;33m\u001b[0m\u001b[1;33m\u001b[0m\u001b[0m\n\u001b[1;32m----> 3\u001b[1;33m \u001b[0mprint\u001b[0m\u001b[1;33m(\u001b[0m\u001b[1;34mf'{mnist_model.metric_names[1]}: {scores[1]*100}'\u001b[0m\u001b[1;33m)\u001b[0m\u001b[1;33m\u001b[0m\u001b[1;33m\u001b[0m\u001b[0m\n\u001b[0m",
      "\u001b[1;31mAttributeError\u001b[0m: 'Sequential' object has no attribute 'metric_names'"
     ]
    }
   ],
   "source": [
    "history = mnist_model.fit(X_train,y_train, epochs=epochs, validation_split=.1)\n",
    "scores = mnist_model.evaluate(X_test, y_test)\n",
    "print(f'{mnist_model.metric_names[1]}: {scores[1]*100}')"
   ]
  },
  {
   "cell_type": "code",
   "execution_count": 45,
   "metadata": {},
   "outputs": [
    {
     "data": {
      "text/plain": [
       "0.9607"
      ]
     },
     "execution_count": 45,
     "metadata": {},
     "output_type": "execute_result"
    }
   ],
   "source": [
    "scores[-1]\n"
   ]
  },
  {
   "cell_type": "markdown",
   "metadata": {
    "colab_type": "text",
    "id": "CKmx8153w9Ci"
   },
   "source": [
    "## What if we use dropout techniques to prevent overfitting? How does that affect our model?\n",
    "\n",
    "![Regularization](https://upload.wikimedia.org/wikipedia/commons/thumb/0/02/Regularization.svg/354px-Regularization.svg.png)"
   ]
  },
  {
   "cell_type": "code",
   "execution_count": 0,
   "metadata": {
    "colab": {},
    "colab_type": "code",
    "id": "CWDopERJ16yJ"
   },
   "outputs": [],
   "source": [
    "### Try it with dropout"
   ]
  }
 ],
 "metadata": {
  "colab": {
   "collapsed_sections": [],
   "name": "LS_DS_433_Keras_Lecture.ipynb",
   "provenance": [],
   "version": "0.3.2"
  },
  "kernelspec": {
   "display_name": "Python 3",
   "language": "python",
   "name": "python3"
  },
  "language_info": {
   "codemirror_mode": {
    "name": "ipython",
    "version": 3
   },
   "file_extension": ".py",
   "mimetype": "text/x-python",
   "name": "python",
   "nbconvert_exporter": "python",
   "pygments_lexer": "ipython3",
   "version": "3.7.3"
  }
 },
 "nbformat": 4,
 "nbformat_minor": 1
}
